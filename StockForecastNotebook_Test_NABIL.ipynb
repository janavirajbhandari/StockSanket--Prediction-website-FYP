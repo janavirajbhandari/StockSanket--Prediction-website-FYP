{
 "cells": [
  {
   "cell_type": "markdown",
   "metadata": {
    "editable": true,
    "slideshow": {
     "slide_type": ""
    },
    "tags": []
   },
   "source": [
    "### Stock Market Prediction And Forecasting Using Stacked LSTM"
   ]
  },
  {
   "cell_type": "code",
   "execution_count": 1,
   "metadata": {},
   "outputs": [
    {
     "data": {
      "text/html": [
       "<div>\n",
       "<style scoped>\n",
       "    .dataframe tbody tr th:only-of-type {\n",
       "        vertical-align: middle;\n",
       "    }\n",
       "\n",
       "    .dataframe tbody tr th {\n",
       "        vertical-align: top;\n",
       "    }\n",
       "\n",
       "    .dataframe thead th {\n",
       "        text-align: right;\n",
       "    }\n",
       "</style>\n",
       "<table border=\"1\" class=\"dataframe\">\n",
       "  <thead>\n",
       "    <tr style=\"text-align: right;\">\n",
       "      <th></th>\n",
       "      <th>Date</th>\n",
       "      <th>Open</th>\n",
       "      <th>High</th>\n",
       "      <th>Low</th>\n",
       "      <th>Close</th>\n",
       "      <th>% change</th>\n",
       "      <th>Volume</th>\n",
       "      <th>TurnOver</th>\n",
       "    </tr>\n",
       "  </thead>\n",
       "  <tbody>\n",
       "    <tr>\n",
       "      <th>0</th>\n",
       "      <td>2012-02-28</td>\n",
       "      <td>847.0</td>\n",
       "      <td>867.0</td>\n",
       "      <td>845.0</td>\n",
       "      <td>867.0</td>\n",
       "      <td>0.0</td>\n",
       "      <td>825.0</td>\n",
       "      <td>701623.0</td>\n",
       "    </tr>\n",
       "    <tr>\n",
       "      <th>1</th>\n",
       "      <td>2012-02-29</td>\n",
       "      <td>867.0</td>\n",
       "      <td>869.0</td>\n",
       "      <td>860.0</td>\n",
       "      <td>861.0</td>\n",
       "      <td>0.0</td>\n",
       "      <td>602.0</td>\n",
       "      <td>520694.0</td>\n",
       "    </tr>\n",
       "    <tr>\n",
       "      <th>2</th>\n",
       "      <td>2012-03-01</td>\n",
       "      <td>861.0</td>\n",
       "      <td>887.0</td>\n",
       "      <td>865.0</td>\n",
       "      <td>887.0</td>\n",
       "      <td>0.0</td>\n",
       "      <td>497.0</td>\n",
       "      <td>431750.0</td>\n",
       "    </tr>\n",
       "    <tr>\n",
       "      <th>3</th>\n",
       "      <td>2012-03-04</td>\n",
       "      <td>887.0</td>\n",
       "      <td>876.0</td>\n",
       "      <td>870.0</td>\n",
       "      <td>874.0</td>\n",
       "      <td>0.0</td>\n",
       "      <td>590.0</td>\n",
       "      <td>513749.0</td>\n",
       "    </tr>\n",
       "    <tr>\n",
       "      <th>4</th>\n",
       "      <td>2012-03-05</td>\n",
       "      <td>874.0</td>\n",
       "      <td>887.0</td>\n",
       "      <td>866.0</td>\n",
       "      <td>883.0</td>\n",
       "      <td>0.0</td>\n",
       "      <td>571.0</td>\n",
       "      <td>497711.0</td>\n",
       "    </tr>\n",
       "  </tbody>\n",
       "</table>\n",
       "</div>"
      ],
      "text/plain": [
       "        Date   Open   High    Low  Close  % change  Volume  TurnOver\n",
       "0 2012-02-28  847.0  867.0  845.0  867.0       0.0   825.0  701623.0\n",
       "1 2012-02-29  867.0  869.0  860.0  861.0       0.0   602.0  520694.0\n",
       "2 2012-03-01  861.0  887.0  865.0  887.0       0.0   497.0  431750.0\n",
       "3 2012-03-04  887.0  876.0  870.0  874.0       0.0   590.0  513749.0\n",
       "4 2012-03-05  874.0  887.0  866.0  883.0       0.0   571.0  497711.0"
      ]
     },
     "execution_count": 1,
     "metadata": {},
     "output_type": "execute_result"
    }
   ],
   "source": [
    "import pandas as pd\n",
    "import os\n",
    "\n",
    "symbols = \"NABIL\"\n",
    "csv_path = f\"stock_history/{symbols}.csv\"\n",
    "df = pd.read_csv(csv_path)\n",
    "\n",
    "# Convert 'Date' column to datetime if not already\n",
    "df['Date'] = pd.to_datetime(df['Date'])\n",
    "\n",
    "# Sort the DataFrame by date in ascending order\n",
    "df = df.sort_values('Date').reset_index(drop=True)\n",
    "df.head()\n"
   ]
  },
  {
   "cell_type": "code",
   "execution_count": 2,
   "metadata": {},
   "outputs": [
    {
     "data": {
      "text/html": [
       "<div>\n",
       "<style scoped>\n",
       "    .dataframe tbody tr th:only-of-type {\n",
       "        vertical-align: middle;\n",
       "    }\n",
       "\n",
       "    .dataframe tbody tr th {\n",
       "        vertical-align: top;\n",
       "    }\n",
       "\n",
       "    .dataframe thead th {\n",
       "        text-align: right;\n",
       "    }\n",
       "</style>\n",
       "<table border=\"1\" class=\"dataframe\">\n",
       "  <thead>\n",
       "    <tr style=\"text-align: right;\">\n",
       "      <th></th>\n",
       "      <th>Date</th>\n",
       "      <th>Open</th>\n",
       "      <th>High</th>\n",
       "      <th>Low</th>\n",
       "      <th>Close</th>\n",
       "      <th>% change</th>\n",
       "      <th>Volume</th>\n",
       "      <th>TurnOver</th>\n",
       "    </tr>\n",
       "  </thead>\n",
       "  <tbody>\n",
       "    <tr>\n",
       "      <th>2995</th>\n",
       "      <td>2025-04-03</td>\n",
       "      <td>491.0</td>\n",
       "      <td>494.0</td>\n",
       "      <td>486.1</td>\n",
       "      <td>488.73</td>\n",
       "      <td>0.72</td>\n",
       "      <td>42041.0</td>\n",
       "      <td>20602284.7</td>\n",
       "    </tr>\n",
       "    <tr>\n",
       "      <th>2996</th>\n",
       "      <td>2025-04-07</td>\n",
       "      <td>490.0</td>\n",
       "      <td>497.0</td>\n",
       "      <td>482.0</td>\n",
       "      <td>486.97</td>\n",
       "      <td>-0.36</td>\n",
       "      <td>46130.0</td>\n",
       "      <td>22422636.0</td>\n",
       "    </tr>\n",
       "    <tr>\n",
       "      <th>2997</th>\n",
       "      <td>2025-04-08</td>\n",
       "      <td>485.0</td>\n",
       "      <td>486.0</td>\n",
       "      <td>478.0</td>\n",
       "      <td>484.65</td>\n",
       "      <td>-0.48</td>\n",
       "      <td>38820.0</td>\n",
       "      <td>18746522.3</td>\n",
       "    </tr>\n",
       "    <tr>\n",
       "      <th>2998</th>\n",
       "      <td>2025-04-09</td>\n",
       "      <td>494.0</td>\n",
       "      <td>494.0</td>\n",
       "      <td>483.2</td>\n",
       "      <td>486.27</td>\n",
       "      <td>0.33</td>\n",
       "      <td>26187.0</td>\n",
       "      <td>12744525.0</td>\n",
       "    </tr>\n",
       "    <tr>\n",
       "      <th>2999</th>\n",
       "      <td>2025-04-10</td>\n",
       "      <td>491.0</td>\n",
       "      <td>492.4</td>\n",
       "      <td>484.0</td>\n",
       "      <td>485.97</td>\n",
       "      <td>-0.06</td>\n",
       "      <td>30292.0</td>\n",
       "      <td>14717797.1</td>\n",
       "    </tr>\n",
       "  </tbody>\n",
       "</table>\n",
       "</div>"
      ],
      "text/plain": [
       "           Date   Open   High    Low   Close  % change   Volume    TurnOver\n",
       "2995 2025-04-03  491.0  494.0  486.1  488.73      0.72  42041.0  20602284.7\n",
       "2996 2025-04-07  490.0  497.0  482.0  486.97     -0.36  46130.0  22422636.0\n",
       "2997 2025-04-08  485.0  486.0  478.0  484.65     -0.48  38820.0  18746522.3\n",
       "2998 2025-04-09  494.0  494.0  483.2  486.27      0.33  26187.0  12744525.0\n",
       "2999 2025-04-10  491.0  492.4  484.0  485.97     -0.06  30292.0  14717797.1"
      ]
     },
     "execution_count": 2,
     "metadata": {},
     "output_type": "execute_result"
    }
   ],
   "source": [
    "df.tail()"
   ]
  },
  {
   "cell_type": "code",
   "execution_count": 3,
   "metadata": {},
   "outputs": [],
   "source": [
    "df1=df.reset_index()['Close']"
   ]
  },
  {
   "cell_type": "code",
   "execution_count": 4,
   "metadata": {},
   "outputs": [
    {
     "data": {
      "text/plain": [
       "0       867.00\n",
       "1       861.00\n",
       "2       887.00\n",
       "3       874.00\n",
       "4       883.00\n",
       "         ...  \n",
       "2995    488.73\n",
       "2996    486.97\n",
       "2997    484.65\n",
       "2998    486.27\n",
       "2999    485.97\n",
       "Name: Close, Length: 3000, dtype: float64"
      ]
     },
     "execution_count": 4,
     "metadata": {},
     "output_type": "execute_result"
    }
   ],
   "source": [
    "df1"
   ]
  },
  {
   "cell_type": "code",
   "execution_count": 5,
   "metadata": {},
   "outputs": [
    {
     "data": {
      "text/plain": [
       "[<matplotlib.lines.Line2D at 0x1b11a820650>]"
      ]
     },
     "execution_count": 5,
     "metadata": {},
     "output_type": "execute_result"
    },
    {
     "data": {
      "image/png": "[encoded data removed]",
      "text/plain": [
       "<Figure size 640x480 with 1 Axes>"
      ]
     },
     "metadata": {},
     "output_type": "display_data"
    }
   ],
   "source": [
    "import matplotlib.pyplot as plt\n",
    "plt.plot(df1)"
   ]
  },
  {
   "cell_type": "code",
   "execution_count": 6,
   "metadata": {},
   "outputs": [],
   "source": [
    "import numpy as np"
   ]
  },
  {
   "cell_type": "code",
   "execution_count": 7,
   "metadata": {},
   "outputs": [
    {
     "data": {
      "text/plain": [
       "0       867.00\n",
       "1       861.00\n",
       "2       887.00\n",
       "3       874.00\n",
       "4       883.00\n",
       "         ...  \n",
       "2995    488.73\n",
       "2996    486.97\n",
       "2997    484.65\n",
       "2998    486.27\n",
       "2999    485.97\n",
       "Name: Close, Length: 3000, dtype: float64"
      ]
     },
     "execution_count": 7,
     "metadata": {},
     "output_type": "execute_result"
    }
   ],
   "source": [
    "df1"
   ]
  },
  {
   "cell_type": "code",
   "execution_count": 8,
   "metadata": {},
   "outputs": [],
   "source": [
    "from sklearn.preprocessing import MinMaxScaler\n",
    "scaler=MinMaxScaler(feature_range=(0,1))\n",
    "df1=scaler.fit_transform(np.array(df1).reshape(-1,1))\n",
    "\n"
   ]
  },
  {
   "cell_type": "code",
   "execution_count": 9,
   "metadata": {},
   "outputs": [
    {
     "name": "stdout",
     "output_type": "stream",
     "text": [
      "[[0.1911512 ]\n",
      " [0.18857388]\n",
      " [0.19974227]\n",
      " ...\n",
      " [0.02691151]\n",
      " [0.02760739]\n",
      " [0.02747852]]\n"
     ]
    }
   ],
   "source": [
    "print(df1)"
   ]
  },
  {
   "cell_type": "code",
   "execution_count": 10,
   "metadata": {},
   "outputs": [],
   "source": [
    "##splitting dataset into train and test split\n",
    "training_size=int(len(df1)*0.65)\n",
    "test_size=len(df1)-training_size\n",
    "train_data,test_data=df1[0:training_size,:],df1[training_size:len(df1),:1]"
   ]
  },
  {
   "cell_type": "code",
   "execution_count": 11,
   "metadata": {},
   "outputs": [
    {
     "data": {
      "text/plain": [
       "(1950, 1050)"
      ]
     },
     "execution_count": 11,
     "metadata": {},
     "output_type": "execute_result"
    }
   ],
   "source": [
    "training_size,test_size"
   ]
  },
  {
   "cell_type": "code",
   "execution_count": 12,
   "metadata": {},
   "outputs": [
    {
     "data": {
      "text/plain": [
       "array([[0.1911512 ],\n",
       "       [0.18857388],\n",
       "       [0.19974227],\n",
       "       ...,\n",
       "       [0.18771478],\n",
       "       [0.18943299],\n",
       "       [0.19158076]])"
      ]
     },
     "execution_count": 12,
     "metadata": {},
     "output_type": "execute_result"
    }
   ],
   "source": [
    "train_data"
   ]
  },
  {
   "cell_type": "code",
   "execution_count": 13,
   "metadata": {},
   "outputs": [],
   "source": [
    "import numpy\n",
    "# convert an array of values into a dataset matrix\n",
    "def create_dataset(dataset, time_step=1):\n",
    "\tdataX, dataY = [], []\n",
    "\tfor i in range(len(dataset)-time_step-1):\n",
    "\t\ta = dataset[i:(i+time_step), 0]   ###i=0, 0,1,2,3-----99   100 \n",
    "\t\tdataX.append(a)\n",
    "\t\tdataY.append(dataset[i + time_step, 0])\n",
    "\treturn numpy.array(dataX), numpy.array(dataY)"
   ]
  },
  {
   "cell_type": "code",
   "execution_count": 14,
   "metadata": {},
   "outputs": [],
   "source": [
    "# reshape into X=t,t+1,t+2,t+3 and Y=t+4\n",
    "time_step = 100\n",
    "X_train, y_train = create_dataset(train_data, time_step)\n",
    "X_test, ytest = create_dataset(test_data, time_step)"
   ]
  },
  {
   "cell_type": "code",
   "execution_count": 15,
   "metadata": {},
   "outputs": [
    {
     "name": "stdout",
     "output_type": "stream",
     "text": [
      "(1849, 100)\n",
      "(1849,)\n"
     ]
    },
    {
     "data": {
      "text/plain": [
       "(None, None)"
      ]
     },
     "execution_count": 15,
     "metadata": {},
     "output_type": "execute_result"
    }
   ],
   "source": [
    "print(X_train.shape), print(y_train.shape)"
   ]
  },
  {
   "cell_type": "code",
   "execution_count": 16,
   "metadata": {},
   "outputs": [
    {
     "name": "stdout",
     "output_type": "stream",
     "text": [
      "(949, 100)\n",
      "(949,)\n"
     ]
    },
    {
     "data": {
      "text/plain": [
       "(None, None)"
      ]
     },
     "execution_count": 16,
     "metadata": {},
     "output_type": "execute_result"
    }
   ],
   "source": [
    "print(X_test.shape), print(ytest.shape)"
   ]
  },
  {
   "cell_type": "code",
   "execution_count": 19,
   "metadata": {},
   "outputs": [],
   "source": [
    "# reshape input to be [samples, time steps, features] which is required for LSTM\n",
    "X_train =X_train.reshape(X_train.shape[0],X_train.shape[1] , 1)\n",
    "X_test = X_test.reshape(X_test.shape[0],X_test.shape[1] , 1)"
   ]
  },
  {
   "cell_type": "code",
   "execution_count": 18,
   "metadata": {},
   "outputs": [],
   "source": [
    "### Create the Stacked LSTM model\n",
    "from tensorflow.keras.models import Sequential\n",
    "from tensorflow.keras.layers import Dense\n",
    "from tensorflow.keras.layers import LSTM"
   ]
  },
  {
   "cell_type": "code",
   "execution_count": 23,
   "metadata": {},
   "outputs": [
    {
     "name": "stdout",
     "output_type": "stream",
     "text": [
      "Model: \"sequential_1\"\n",
      "_________________________________________________________________\n",
      " Layer (type)                Output Shape              Param #   \n",
      "=================================================================\n",
      " lstm_3 (LSTM)               (None, 100, 50)           10400     \n",
      "                                                                 \n",
      " dropout (Dropout)           (None, 100, 50)           0         \n",
      "                                                                 \n",
      " lstm_4 (LSTM)               (None, 100, 50)           20200     \n",
      "                                                                 \n",
      " dropout_1 (Dropout)         (None, 100, 50)           0         \n",
      "                                                                 \n",
      " lstm_5 (LSTM)               (None, 50)                20200     \n",
      "                                                                 \n",
      " dropout_2 (Dropout)         (None, 50)                0         \n",
      "                                                                 \n",
      " dense_1 (Dense)             (None, 1)                 51        \n",
      "                                                                 \n",
      "=================================================================\n",
      "Total params: 50851 (198.64 KB)\n",
      "Trainable params: 50851 (198.64 KB)\n",
      "Non-trainable params: 0 (0.00 Byte)\n",
      "_________________________________________________________________\n"
     ]
    },
    {
     "name": "stderr",
     "output_type": "stream",
     "text": [
      "c:\\Users\\Bishal\\AppData\\Local\\Programs\\Python\\Python311\\Lib\\site-packages\\keras\\src\\engine\\training.py:3000: UserWarning: You are saving your model as an HDF5 file via `model.save()`. This file format is considered legacy. We recommend using instead the native Keras format, e.g. `model.save('my_model.keras')`.\n",
      "  saving_api.save_model(\n"
     ]
    }
   ],
   "source": [
    "from tensorflow.keras.layers import Dropout\n",
    "\n",
    "# Define LSTM model\n",
    "model = Sequential([\n",
    "    LSTM(50, return_sequences=True, input_shape=(100, 1)),\n",
    "    Dropout(0.2),\n",
    "    LSTM(50, return_sequences=True),\n",
    "    Dropout(0.2),\n",
    "    LSTM(50),\n",
    "    Dropout(0.2),\n",
    "    Dense(1)\n",
    "])\n",
    "\n",
    "# Compile Model\n",
    "model.compile(loss='mean_squared_error', optimizer='adam')\n",
    "\n",
    "# Save the trained model (after training)\n",
    "model.save(\"StockSanket.h5\")\n",
    "\n",
    "\n",
    "\n",
    "# Print the model summary (optional)\n",
    "model.summary()\n"
   ]
  },
  {
   "cell_type": "code",
   "execution_count": 27,
   "metadata": {},
   "outputs": [
    {
     "name": "stdout",
     "output_type": "stream",
     "text": [
      "Epoch 1/100\n",
      "58/58 [==============================] - 8s 145ms/step - loss: 0.0044 - val_loss: 4.3889e-04\n",
      "Epoch 2/100\n",
      "58/58 [==============================] - 10s 167ms/step - loss: 0.0041 - val_loss: 6.4552e-04\n",
      "Epoch 3/100\n",
      "58/58 [==============================] - 7s 123ms/step - loss: 0.0039 - val_loss: 8.6955e-04\n",
      "Epoch 4/100\n",
      "58/58 [==============================] - 7s 122ms/step - loss: 0.0039 - val_loss: 4.3830e-04\n",
      "Epoch 5/100\n",
      "58/58 [==============================] - 8s 141ms/step - loss: 0.0036 - val_loss: 4.0142e-04\n",
      "Epoch 6/100\n",
      "58/58 [==============================] - 7s 120ms/step - loss: 0.0034 - val_loss: 4.9230e-04\n",
      "Epoch 7/100\n",
      "58/58 [==============================] - 8s 138ms/step - loss: 0.0033 - val_loss: 3.7860e-04\n",
      "Epoch 8/100\n",
      "58/58 [==============================] - 7s 125ms/step - loss: 0.0033 - val_loss: 4.5928e-04\n",
      "Epoch 9/100\n",
      "58/58 [==============================] - 7s 124ms/step - loss: 0.0030 - val_loss: 3.4250e-04\n",
      "Epoch 10/100\n",
      "58/58 [==============================] - 7s 122ms/step - loss: 0.0028 - val_loss: 4.8734e-04\n",
      "Epoch 11/100\n",
      "58/58 [==============================] - 7s 123ms/step - loss: 0.0032 - val_loss: 3.3655e-04\n",
      "Epoch 12/100\n",
      "58/58 [==============================] - 8s 146ms/step - loss: 0.0029 - val_loss: 2.9972e-04\n",
      "Epoch 13/100\n",
      "58/58 [==============================] - 8s 140ms/step - loss: 0.0028 - val_loss: 3.0780e-04\n",
      "Epoch 14/100\n",
      "58/58 [==============================] - 8s 132ms/step - loss: 0.0025 - val_loss: 3.2102e-04\n",
      "Epoch 15/100\n",
      "58/58 [==============================] - 8s 142ms/step - loss: 0.0024 - val_loss: 3.2377e-04\n",
      "Epoch 16/100\n",
      "58/58 [==============================] - 10s 173ms/step - loss: 0.0027 - val_loss: 5.9208e-04\n",
      "Epoch 17/100\n",
      "58/58 [==============================] - 7s 129ms/step - loss: 0.0026 - val_loss: 3.7262e-04\n"
     ]
    },
    {
     "data": {
      "text/plain": [
       "<keras.src.callbacks.History at 0x1b14c12fbd0>"
      ]
     },
     "execution_count": 27,
     "metadata": {},
     "output_type": "execute_result"
    }
   ],
   "source": [
    "from tensorflow.keras.callbacks import EarlyStopping\n",
    "\n",
    "early_stop = EarlyStopping(monitor='val_loss', patience=5, restore_best_weights=True)\n",
    "\n",
    "model.fit(X_train,y_train,\n",
    "          validation_data=(X_test, ytest), \n",
    "          epochs=100, batch_size=32, callbacks=[early_stop], verbose=1)\n"
   ]
  },
  {
   "cell_type": "code",
   "execution_count": 28,
   "metadata": {},
   "outputs": [],
   "source": [
    "import tensorflow as tf"
   ]
  },
  {
   "cell_type": "code",
   "execution_count": 29,
   "metadata": {},
   "outputs": [
    {
     "data": {
      "text/plain": [
       "'2.13.0'"
      ]
     },
     "execution_count": 29,
     "metadata": {},
     "output_type": "execute_result"
    }
   ],
   "source": [
    "tf.__version__"
   ]
  },
  {
   "cell_type": "code",
   "execution_count": 31,
   "metadata": {},
   "outputs": [
    {
     "name": "stdout",
     "output_type": "stream",
     "text": [
      "58/58 [==============================] - 3s 52ms/step\n",
      "30/30 [==============================] - 1s 48ms/step\n"
     ]
    }
   ],
   "source": [
    "### Lets Do the prediction and check performance metrics\n",
    "train_predict=model.predict(X_train)\n",
    "test_predict=model.predict(X_test)"
   ]
  },
  {
   "cell_type": "code",
   "execution_count": 32,
   "metadata": {},
   "outputs": [],
   "source": [
    "##Transformback to original form\n",
    "train_predict=scaler.inverse_transform(train_predict)\n",
    "test_predict=scaler.inverse_transform(test_predict)"
   ]
  },
  {
   "cell_type": "code",
   "execution_count": 33,
   "metadata": {},
   "outputs": [],
   "source": [
    "# Calculate RMSE for training and testing\n",
    "from sklearn.metrics import mean_squared_error\n",
    "import math\n",
    "\n",
    "train_rmse = math.sqrt(mean_squared_error(y_train, train_predict))\n",
    "test_rmse = math.sqrt(mean_squared_error(ytest, test_predict))\n"
   ]
  },
  {
   "cell_type": "code",
   "execution_count": 34,
   "metadata": {},
   "outputs": [
    {
     "name": "stderr",
     "output_type": "stream",
     "text": [
      "C:\\Users\\Bishal\\AppData\\Local\\Temp\\ipykernel_2240\\117373069.py:3: RuntimeWarning: divide by zero encountered in divide\n",
      "  return np.mean(np.abs((y_true - y_pred) / y_true)) * 100\n"
     ]
    }
   ],
   "source": [
    "def mean_absolute_percentage_error(y_true, y_pred):\n",
    "    y_true, y_pred = np.array(y_true), np.array(y_pred)\n",
    "    return np.mean(np.abs((y_true - y_pred) / y_true)) * 100\n",
    "\n",
    "train_mape = mean_absolute_percentage_error(y_train, train_predict)\n",
    "test_mape = mean_absolute_percentage_error(ytest, test_predict)\n",
    "\n",
    "train_accuracy = 100 - train_mape\n",
    "test_accuracy = 100 - test_mape\n"
   ]
  },
  {
   "cell_type": "code",
   "execution_count": 35,
   "metadata": {},
   "outputs": [
    {
     "data": {
      "image/png": "[encoded data removed]",
      "text/plain": [
       "<Figure size 640x480 with 1 Axes>"
      ]
     },
     "metadata": {},
     "output_type": "display_data"
    }
   ],
   "source": [
    "### Plotting \n",
    "# shift train predictions for plotting\n",
    "look_back=100\n",
    "trainPredictPlot = numpy.empty_like(df1)\n",
    "trainPredictPlot[:, :] = np.nan\n",
    "trainPredictPlot[look_back:len(train_predict)+look_back, :] = train_predict\n",
    "# shift test predictions for plotting\n",
    "testPredictPlot = numpy.empty_like(df1)\n",
    "testPredictPlot[:, :] = numpy.nan\n",
    "testPredictPlot[len(train_predict)+(look_back*2)+1:len(df1)-1, :] = test_predict\n",
    "# plot baseline and predictions\n",
    "plt.plot(scaler.inverse_transform(df1))\n",
    "plt.plot(trainPredictPlot)\n",
    "plt.plot(testPredictPlot)\n",
    "plt.show()\n"
   ]
  },
  {
   "cell_type": "code",
   "execution_count": 36,
   "metadata": {},
   "outputs": [
    {
     "data": {
      "text/plain": [
       "1050"
      ]
     },
     "execution_count": 36,
     "metadata": {},
     "output_type": "execute_result"
    }
   ],
   "source": [
    "len(test_data)"
   ]
  },
  {
   "cell_type": "code",
   "execution_count": 37,
   "metadata": {},
   "outputs": [
    {
     "data": {
      "text/plain": [
       "(1, 709)"
      ]
     },
     "execution_count": 37,
     "metadata": {},
     "output_type": "execute_result"
    }
   ],
   "source": [
    "x_input=test_data[341:].reshape(1,-1)\n",
    "x_input.shape\n"
   ]
  },
  {
   "cell_type": "code",
   "execution_count": 38,
   "metadata": {},
   "outputs": [],
   "source": [
    "temp_input=list(x_input)\n",
    "temp_input=temp_input[0].tolist()"
   ]
  },
  {
   "cell_type": "code",
   "execution_count": 39,
   "metadata": {},
   "outputs": [
    {
     "data": {
      "text/plain": [
       "[0.2555841924398625,\n",
       " 0.25214776632302405,\n",
       " 0.2508591065292096,\n",
       " 0.24914089347079035,\n",
       " 0.2469931271477663,\n",
       " 0.2469931271477663,\n",
       " 0.24140893470790378,\n",
       " 0.23324742268041235,\n",
       " 0.23496563573883159,\n",
       " 0.23582474226804126,\n",
       " 0.2310996563573883,\n",
       " 0.23582474226804126,\n",
       " 0.23582474226804126,\n",
       " 0.22938144329896906,\n",
       " 0.2263745704467354,\n",
       " 0.2225085910652921,\n",
       " 0.22036082474226806,\n",
       " 0.22744845360824742,\n",
       " 0.22289518900343644,\n",
       " 0.22160652920962196,\n",
       " 0.22031786941580753,\n",
       " 0.21735395189003434,\n",
       " 0.21391752577319587,\n",
       " 0.20919243986254296,\n",
       " 0.20614261168384876,\n",
       " 0.20060137457044672,\n",
       " 0.20382302405498284,\n",
       " 0.20949312714776633,\n",
       " 0.21950171821305844,\n",
       " 0.21821305841924396,\n",
       " 0.20962199312714777,\n",
       " 0.211340206185567,\n",
       " 0.20876288659793815,\n",
       " 0.20790378006872853,\n",
       " 0.20489690721649487,\n",
       " 0.20408075601374573,\n",
       " 0.20532646048109968,\n",
       " 0.20472508591065294,\n",
       " 0.20446735395189006,\n",
       " 0.20103092783505153,\n",
       " 0.19458762886597938,\n",
       " 0.1911512027491409,\n",
       " 0.18896048109965632,\n",
       " 0.18170103092783504,\n",
       " 0.18213058419243985,\n",
       " 0.17590206185567012,\n",
       " 0.18084192439862543,\n",
       " 0.18230240549828178,\n",
       " 0.18303264604810995,\n",
       " 0.18213058419243985,\n",
       " 0.17890893470790378,\n",
       " 0.17310996563573885,\n",
       " 0.17310996563573885,\n",
       " 0.16967353951890032,\n",
       " 0.16924398625429551,\n",
       " 0.16018041237113403,\n",
       " 0.1589347079037801,\n",
       " 0.15463917525773194,\n",
       " 0.14046391752577317,\n",
       " 0.13659793814432988,\n",
       " 0.15163230240549827,\n",
       " 0.15378006872852232,\n",
       " 0.1529209621993127,\n",
       " 0.16022336769759452,\n",
       " 0.17740549828178695,\n",
       " 0.18642611683848795,\n",
       " 0.20060137457044672,\n",
       " 0.20317869415807557,\n",
       " 0.19329896907216496,\n",
       " 0.18986254295532648,\n",
       " 0.18170103092783504,\n",
       " 0.17353951890034366,\n",
       " 0.1589347079037801,\n",
       " 0.16103951890034365,\n",
       " 0.16709621993127147,\n",
       " 0.16967353951890032,\n",
       " 0.17268041237113405,\n",
       " 0.1752577319587629,\n",
       " 0.17611683848797252,\n",
       " 0.17869415807560138,\n",
       " 0.18170103092783504,\n",
       " 0.18599656357388314,\n",
       " 0.17951030927835052,\n",
       " 0.18814432989690724,\n",
       " 0.19888316151202748,\n",
       " 0.1907216494845361,\n",
       " 0.1907216494845361,\n",
       " 0.1907216494845361,\n",
       " 0.19239690721649486,\n",
       " 0.19716494845360824,\n",
       " 0.19755154639175257,\n",
       " 0.195446735395189,\n",
       " 0.18900343642611686,\n",
       " 0.1838487972508591,\n",
       " 0.17083333333333336,\n",
       " 0.16967353951890032,\n",
       " 0.163659793814433,\n",
       " 0.15725945017182133,\n",
       " 0.15807560137457047,\n",
       " 0.1593642611683849,\n",
       " 0.15764604810996566,\n",
       " 0.16211340206185568,\n",
       " 0.16194158075601375,\n",
       " 0.1600085910652921,\n",
       " 0.16323024054982818,\n",
       " 0.16280068728522337,\n",
       " 0.16194158075601375,\n",
       " 0.1631872852233677,\n",
       " 0.16323024054982818,\n",
       " 0.16237113402061856,\n",
       " 0.16060996563573884,\n",
       " 0.1595790378006873,\n",
       " 0.15807560137457047,\n",
       " 0.15786082474226806,\n",
       " 0.15635738831615117,\n",
       " 0.15549828178694156,\n",
       " 0.15588487972508588,\n",
       " 0.15373711340206184,\n",
       " 0.15210481099656356,\n",
       " 0.1486254295532646,\n",
       " 0.14656357388316152,\n",
       " 0.14518900343642613,\n",
       " 0.14475945017182132,\n",
       " 0.14304123711340208,\n",
       " 0.14948453608247422,\n",
       " 0.16194158075601375,\n",
       " 0.15420962199312713,\n",
       " 0.15034364261168384,\n",
       " 0.14690721649484537,\n",
       " 0.14067869415807557,\n",
       " 0.14609106529209623,\n",
       " 0.14475945017182132,\n",
       " 0.14213917525773193,\n",
       " 0.14948453608247422,\n",
       " 0.1481958762886598,\n",
       " 0.15378006872852232,\n",
       " 0.16537800687285223,\n",
       " 0.16108247422680413,\n",
       " 0.1589347079037801,\n",
       " 0.1597938144329897,\n",
       " 0.16065292096219932,\n",
       " 0.1597938144329897,\n",
       " 0.1597938144329897,\n",
       " 0.16172680412371135,\n",
       " 0.16086769759450173,\n",
       " 0.16580756013745704,\n",
       " 0.16924398625429551,\n",
       " 0.17740549828178695,\n",
       " 0.1752577319587629,\n",
       " 0.17268041237113405,\n",
       " 0.1757302405498282,\n",
       " 0.17697594501718214,\n",
       " 0.17654639175257733,\n",
       " 0.17246563573883164,\n",
       " 0.1688144329896907,\n",
       " 0.16709621993127147,\n",
       " 0.1683848797250859,\n",
       " 0.17006013745704465,\n",
       " 0.17074742268041235,\n",
       " 0.17409793814432986,\n",
       " 0.1748281786941581,\n",
       " 0.17293814432989693,\n",
       " 0.1756872852233677,\n",
       " 0.1950171821305842,\n",
       " 0.19415807560137457,\n",
       " 0.195446735395189,\n",
       " 0.19759450171821305,\n",
       " 0.2109106529209622,\n",
       " 0.19759450171821305,\n",
       " 0.19802405498281786,\n",
       " 0.2001718213058419,\n",
       " 0.19716494845360824,\n",
       " 0.18213058419243985,\n",
       " 0.1688144329896907,\n",
       " 0.1654209621993127,\n",
       " 0.16580756013745704,\n",
       " 0.1640893470790378,\n",
       " 0.1597938144329897,\n",
       " 0.16108247422680413,\n",
       " 0.16237113402061856,\n",
       " 0.16537800687285223,\n",
       " 0.16666666666666666,\n",
       " 0.17869415807560138,\n",
       " 0.18041237113402062,\n",
       " 0.17736254295532647,\n",
       " 0.18084192439862543,\n",
       " 0.18578178694158073,\n",
       " 0.13616838487972507,\n",
       " 0.13487972508591065,\n",
       " 0.13526632302405497,\n",
       " 0.13101374570446736,\n",
       " 0.12762027491408937,\n",
       " 0.12757731958762888,\n",
       " 0.12766323024054985,\n",
       " 0.12542955326460484,\n",
       " 0.12414089347079035,\n",
       " 0.1210910652920962,\n",
       " 0.12091924398625428,\n",
       " 0.12409793814432987,\n",
       " 0.12499999999999997,\n",
       " 0.12332474226804127,\n",
       " 0.12182130584192438,\n",
       " 0.12048969072164947,\n",
       " 0.11855670103092783,\n",
       " 0.11529209621993128,\n",
       " 0.11512027491408935,\n",
       " 0.11426116838487974,\n",
       " 0.11125429553264607,\n",
       " 0.10966494845360822,\n",
       " 0.11593642611683849,\n",
       " 0.11426116838487974,\n",
       " 0.11640893470790378,\n",
       " 0.11211340206185569,\n",
       " 0.10867697594501716,\n",
       " 0.10846219931271475,\n",
       " 0.10661512027491413,\n",
       " 0.10330756013745704,\n",
       " 0.11035223367697591,\n",
       " 0.1060996563573883,\n",
       " 0.10373711340206185,\n",
       " 0.10266323024054982,\n",
       " 0.10094501718213059,\n",
       " 0.10008591065292097,\n",
       " 0.09755154639175259,\n",
       " 0.09248281786941578,\n",
       " 0.09321305841924396,\n",
       " 0.09664948453608249,\n",
       " 0.09231099656357386,\n",
       " 0.0893041237113402,\n",
       " 0.08719931271477663,\n",
       " 0.08419243986254296,\n",
       " 0.08204467353951891,\n",
       " 0.07903780068728525,\n",
       " 0.08204467353951891,\n",
       " 0.08204467353951891,\n",
       " 0.07860824742268044,\n",
       " 0.0747422680412371,\n",
       " 0.07817869415807563,\n",
       " 0.07925257731958765,\n",
       " 0.08032646048109968,\n",
       " 0.07774914089347076,\n",
       " 0.07551546391752575,\n",
       " 0.07212199312714776,\n",
       " 0.07173539518900343,\n",
       " 0.07216494845360824,\n",
       " 0.07310996563573888,\n",
       " 0.06786941580756015,\n",
       " 0.06877147766323025,\n",
       " 0.07302405498281786,\n",
       " 0.08891752577319587,\n",
       " 0.08457903780068729,\n",
       " 0.08376288659793815,\n",
       " 0.08333333333333334,\n",
       " 0.08333333333333334,\n",
       " 0.08505154639175258,\n",
       " 0.08505154639175258,\n",
       " 0.08032646048109968,\n",
       " 0.07860824742268044,\n",
       " 0.07882302405498284,\n",
       " 0.07817869415807563,\n",
       " 0.07646048109965634,\n",
       " 0.07517182130584191,\n",
       " 0.07624570446735393,\n",
       " 0.07581615120274912,\n",
       " 0.07598797250859105,\n",
       " 0.07431271477663229,\n",
       " 0.07345360824742267,\n",
       " 0.07431271477663229,\n",
       " 0.07216494845360824,\n",
       " 0.07216494845360824,\n",
       " 0.06997422680412371,\n",
       " 0.06950171821305842,\n",
       " 0.06958762886597938,\n",
       " 0.07216494845360824,\n",
       " 0.07216494845360824,\n",
       " 0.07435567010309277,\n",
       " 0.07603092783505153,\n",
       " 0.07882302405498284,\n",
       " 0.07903780068728525,\n",
       " 0.07689003436426115,\n",
       " 0.07100515463917526,\n",
       " 0.06851374570446736,\n",
       " 0.07121993127147766,\n",
       " 0.07448453608247421,\n",
       " 0.07259450171821305,\n",
       " 0.07289518900343647,\n",
       " 0.0727233676975945,\n",
       " 0.07255154639175257,\n",
       " 0.07388316151202748,\n",
       " 0.07517182130584191,\n",
       " 0.07517182130584191,\n",
       " 0.07603092783505153,\n",
       " 0.07560137457044672,\n",
       " 0.0747422680412371,\n",
       " 0.07388316151202748,\n",
       " 0.07444158075601373,\n",
       " 0.07220790378006872,\n",
       " 0.07152061855670103,\n",
       " 0.07087628865979381,\n",
       " 0.070446735395189,\n",
       " 0.08028350515463914,\n",
       " 0.07903780068728525,\n",
       " 0.07388316151202748,\n",
       " 0.06997422680412371,\n",
       " 0.070446735395189,\n",
       " 0.06898625429553265,\n",
       " 0.06877147766323025,\n",
       " 0.06915807560137457,\n",
       " 0.06915807560137457,\n",
       " 0.06915807560137457,\n",
       " 0.070446735395189,\n",
       " 0.07216494845360824,\n",
       " 0.07611683848797254,\n",
       " 0.0811855670103093,\n",
       " 0.08204467353951891,\n",
       " 0.08367697594501719,\n",
       " 0.08676975945017182,\n",
       " 0.09750859106529211,\n",
       " 0.09321305841924396,\n",
       " 0.0865979381443299,\n",
       " 0.08655498281786941,\n",
       " 0.08419243986254296,\n",
       " 0.08333333333333334,\n",
       " 0.08290378006872853,\n",
       " 0.08122852233676978,\n",
       " 0.08204467353951891,\n",
       " 0.08204467353951891,\n",
       " 0.0816151202749141,\n",
       " 0.08075601374570449,\n",
       " 0.07646048109965634,\n",
       " 0.07774914089347076,\n",
       " 0.07925257731958765,\n",
       " 0.07796391752577322,\n",
       " 0.0776632302405498,\n",
       " 0.07603092783505153,\n",
       " 0.07302405498281786,\n",
       " 0.07345360824742267,\n",
       " 0.07298109965635738,\n",
       " 0.07280927835051546,\n",
       " 0.07388316151202748,\n",
       " 0.07603092783505153,\n",
       " 0.07323883161512026,\n",
       " 0.07216494845360824,\n",
       " 0.07220790378006872,\n",
       " 0.07216494845360824,\n",
       " 0.07100515463917526,\n",
       " 0.06958762886597938,\n",
       " 0.06958762886597938,\n",
       " 0.06864261168384878,\n",
       " 0.06666666666666668,\n",
       " 0.06786941580756015,\n",
       " 0.07160652920962199,\n",
       " 0.06958762886597938,\n",
       " 0.07130584192439862,\n",
       " 0.07345360824742267,\n",
       " 0.07263745704467353,\n",
       " 0.07173539518900343,\n",
       " 0.07345360824742267,\n",
       " 0.07302405498281786,\n",
       " 0.07431271477663229,\n",
       " 0.07388316151202748,\n",
       " 0.07280927835051546,\n",
       " 0.0700171821305842,\n",
       " 0.06915807560137457,\n",
       " 0.06958762886597938,\n",
       " 0.06950171821305842,\n",
       " 0.06859965635738835,\n",
       " 0.06572164948453607,\n",
       " 0.06434707903780068,\n",
       " 0.06314432989690721,\n",
       " 0.062285223367697595,\n",
       " 0.062242268041237114,\n",
       " 0.0627147766323024,\n",
       " 0.06447594501718215,\n",
       " 0.07195017182130584,\n",
       " 0.07216494845360824,\n",
       " 0.06829896907216496,\n",
       " 0.06786941580756015,\n",
       " 0.06701030927835053,\n",
       " 0.0668384879725086,\n",
       " 0.06481958762886597,\n",
       " 0.061855670103092786,\n",
       " 0.0627147766323024,\n",
       " 0.06353092783505154,\n",
       " 0.06421821305841924,\n",
       " 0.0632302405498282,\n",
       " 0.061426116838487976,\n",
       " 0.05970790378006874,\n",
       " 0.05970790378006874,\n",
       " 0.03994845360824742,\n",
       " 0.04785223367697594,\n",
       " 0.04467353951890035,\n",
       " 0.04080756013745704,\n",
       " 0.03861683848797251,\n",
       " 0.037328178694158054,\n",
       " 0.036082474226804134,\n",
       " 0.03436426116838487,\n",
       " 0.03440721649484538,\n",
       " 0.035652920962199325,\n",
       " 0.03676975945017183,\n",
       " 0.045747422680412375,\n",
       " 0.042955326460481114,\n",
       " 0.042611683848797266,\n",
       " 0.042525773195876276,\n",
       " 0.04329896907216493,\n",
       " 0.0390893470790378,\n",
       " 0.0390893470790378,\n",
       " 0.04123711340206185,\n",
       " 0.04209621993127147,\n",
       " 0.04338487972508592,\n",
       " 0.03994845360824742,\n",
       " 0.03694158075601375,\n",
       " 0.036082474226804134,\n",
       " 0.036039518900343626,\n",
       " 0.03346219931271477,\n",
       " 0.03178694158075601,\n",
       " 0.03157216494845361,\n",
       " 0.029209621993127155,\n",
       " 0.028393470790378017,\n",
       " 0.029209621993127155,\n",
       " 0.030068728522336774,\n",
       " 0.030498281786941583,\n",
       " 0.031142611683848798,\n",
       " 0.03393470790378006,\n",
       " 0.035223367697594515,\n",
       " 0.03264604810996563,\n",
       " 0.030498281786941583,\n",
       " 0.028780068728522346,\n",
       " 0.026847079037800675,\n",
       " 0.0270189003436426,\n",
       " 0.028350515463917536,\n",
       " 0.029639175257731964,\n",
       " 0.028350515463917536,\n",
       " 0.027920962199312727,\n",
       " 0.026890034364261184,\n",
       " 0.025171821305841946,\n",
       " 0.023625429553264604,\n",
       " 0.022766323024054985,\n",
       " 0.022766323024054985,\n",
       " 0.022809278350515466,\n",
       " 0.0234106529209622,\n",
       " 0.022766323024054985,\n",
       " 0.023625429553264604,\n",
       " 0.021262886597938152,\n",
       " 0.018685567010309267,\n",
       " 0.01739690721649484,\n",
       " 0.015335051546391754,\n",
       " 0.011597938144329911,\n",
       " 0.011597938144329911,\n",
       " 0.009879725085910646,\n",
       " 0.006228522336769765,\n",
       " 0.005154639175257741,\n",
       " 0.006786941580756017,\n",
       " 0.005584192439862551,\n",
       " 0.003221649484536071,\n",
       " 0.0008591065292096189,\n",
       " 0.01559278350515464,\n",
       " 0.010309278350515455,\n",
       " 0.008591065292096217,\n",
       " 0.01009450171821305,\n",
       " 0.011941580756013759,\n",
       " 0.02018900343642613,\n",
       " 0.021907216494845366,\n",
       " 0.021434707903780048,\n",
       " 0.018041237113402053,\n",
       " 0.016752577319587625,\n",
       " 0.016323024054982815,\n",
       " 0.015034364261168387,\n",
       " 0.01245704467353953,\n",
       " 0.009879725085910646,\n",
       " 0.008505154639175255,\n",
       " 0.007946735395189003,\n",
       " 0.008805841924398622,\n",
       " 0.007731958762886598,\n",
       " 0.007302405498281789,\n",
       " 0.00601374570446736,\n",
       " 0.005154639175257741,\n",
       " 0.005154639175257741,\n",
       " 0.006872852233676979,\n",
       " 0.007302405498281789,\n",
       " 0.006872852233676979,\n",
       " 0.006872852233676979,\n",
       " 0.005584192439862551,\n",
       " 0.004725085910652932,\n",
       " 0.003393470790377995,\n",
       " 0.002577319587628857,\n",
       " 0.0030068728522336663,\n",
       " 0.0030068728522336663,\n",
       " 0.002276632302405518,\n",
       " 0.0021477663230240474,\n",
       " 0.0030068728522336663,\n",
       " 0.004080756013745718,\n",
       " 0.003221649484536071,\n",
       " 0.0017182130584192379,\n",
       " 0.0008591065292096189,\n",
       " 0.0,\n",
       " 0.0010738831615120237,\n",
       " 0.00030068728522336663,\n",
       " 0.0,\n",
       " 0.003780068728522351,\n",
       " 0.004939862542955337,\n",
       " 0.005154639175257741,\n",
       " 0.003865979381443313,\n",
       " 0.00644329896907217,\n",
       " 0.015463917525773196,\n",
       " 0.02530068728522336,\n",
       " 0.03951890034364261,\n",
       " 0.04080756013745704,\n",
       " 0.036898625429553245,\n",
       " 0.028780068728522346,\n",
       " 0.024183848797250856,\n",
       " 0.029209621993127155,\n",
       " 0.0270189003436426,\n",
       " 0.02620274914089346,\n",
       " 0.024914089347079033,\n",
       " 0.023625429553264604,\n",
       " 0.022336769759450176,\n",
       " 0.01975945017182132,\n",
       " 0.024054982817869414,\n",
       " 0.02620274914089346,\n",
       " 0.024527491408934732,\n",
       " 0.022766323024054985,\n",
       " 0.02018900343642613,\n",
       " 0.021477663230240557,\n",
       " 0.02066151202749142,\n",
       " 0.018900343642611672,\n",
       " 0.016795532646048134,\n",
       " 0.015549828178694158,\n",
       " 0.014604810996563578,\n",
       " 0.014604810996563578,\n",
       " 0.01288659793814434,\n",
       " 0.015807560137457044,\n",
       " 0.023668384879725085,\n",
       " 0.02663230240549827,\n",
       " 0.027920962199312727,\n",
       " 0.027920962199312727,\n",
       " 0.029209621993127155,\n",
       " 0.029295532646048117,\n",
       " 0.03225945017182133,\n",
       " 0.036512027491408944,\n",
       " 0.04596219931271478,\n",
       " 0.04381443298969073,\n",
       " 0.04763745704467354,\n",
       " 0.049828178694158065,\n",
       " 0.062285223367697595,\n",
       " 0.06658075601374572,\n",
       " 0.06529209621993126,\n",
       " 0.06743986254295534,\n",
       " 0.06743986254295534,\n",
       " 0.0661082474226804,\n",
       " 0.09080756013745703,\n",
       " 0.09750859106529211,\n",
       " 0.09536082474226806,\n",
       " 0.0976374570446735,\n",
       " 0.09579037800687287,\n",
       " 0.10223367697594501,\n",
       " 0.08719931271477663,\n",
       " 0.08999140893470789,\n",
       " 0.08934707903780068,\n",
       " 0.0932560137457045,\n",
       " 0.09660652920962201,\n",
       " 0.09703608247422682,\n",
       " 0.09579037800687287,\n",
       " 0.10223367697594501,\n",
       " 0.10309278350515463,\n",
       " 0.10150343642611684,\n",
       " 0.09965635738831616,\n",
       " 0.09231099656357386,\n",
       " 0.07886597938144332,\n",
       " 0.08333333333333334,\n",
       " 0.07860824742268044,\n",
       " 0.07431271477663229,\n",
       " 0.08148625429553266,\n",
       " 0.08075601374570449,\n",
       " 0.07431271477663229,\n",
       " 0.07302405498281786,\n",
       " 0.070446735395189,\n",
       " 0.06486254295532645,\n",
       " 0.06348797250859103,\n",
       " 0.05992268041237114,\n",
       " 0.06314432989690721,\n",
       " 0.06400343642611683,\n",
       " 0.0597938144329897,\n",
       " 0.05756013745704466,\n",
       " 0.06013745704467355,\n",
       " 0.0627147766323024,\n",
       " 0.05648625429553264,\n",
       " 0.057130584192439854,\n",
       " 0.054982817869415807,\n",
       " 0.051331615120274926,\n",
       " 0.054982817869415807,\n",
       " 0.0627147766323024,\n",
       " 0.061426116838487976,\n",
       " 0.06529209621993126,\n",
       " 0.07280927835051546,\n",
       " 0.07259450171821305,\n",
       " 0.07345360824742267,\n",
       " 0.07646048109965634,\n",
       " 0.07989690721649487,\n",
       " 0.07951030927835054,\n",
       " 0.07517182130584191,\n",
       " 0.0702319587628866,\n",
       " 0.07259450171821305,\n",
       " 0.07388316151202748,\n",
       " 0.07280927835051546,\n",
       " 0.07087628865979381,\n",
       " 0.0700171821305842,\n",
       " 0.0729381443298969,\n",
       " 0.06615120274914091,\n",
       " 0.062285223367697595,\n",
       " 0.06125429553264605,\n",
       " 0.06357388316151202,\n",
       " 0.06314432989690721,\n",
       " 0.061941580756013775,\n",
       " 0.05970790378006874,\n",
       " 0.06013745704467355,\n",
       " 0.06018041237113403,\n",
       " 0.05919243986254294,\n",
       " 0.05798969072164947,\n",
       " 0.05657216494845363,\n",
       " 0.05841924398625431,\n",
       " 0.053951890034364264,\n",
       " 0.05283505154639176,\n",
       " 0.05412371134020619,\n",
       " 0.05068728522336771,\n",
       " 0.048969072164948446,\n",
       " 0.04810996563573883,\n",
       " 0.04725085910652921,\n",
       " 0.04639175257731959,\n",
       " 0.04424398625429554,\n",
       " 0.039733676975945015,\n",
       " 0.03780068728522337,\n",
       " 0.036984536082474234,\n",
       " 0.04553264604810997,\n",
       " 0.04209621993127147,\n",
       " 0.03904639175257732,\n",
       " 0.03865979381443299,\n",
       " 0.03857388316151203,\n",
       " 0.03694158075601375,\n",
       " 0.0347508591065292,\n",
       " 0.03393470790378006,\n",
       " 0.03393470790378006,\n",
       " 0.03436426116838487,\n",
       " 0.034664948453608235,\n",
       " 0.03436426116838487,\n",
       " 0.03410652920962198,\n",
       " 0.03320446735395188,\n",
       " 0.03307560137457044,\n",
       " 0.03307560137457044,\n",
       " 0.03350515463917525,\n",
       " 0.03303264604810996,\n",
       " 0.03157216494845361,\n",
       " 0.02946735395189004,\n",
       " 0.02899484536082475,\n",
       " 0.02899484536082475,\n",
       " 0.028823024054982826,\n",
       " 0.028436426116838498,\n",
       " 0.026847079037800675,\n",
       " 0.026374570446735385,\n",
       " 0.027491408934707917,\n",
       " 0.028350515463917536,\n",
       " 0.025859106529209613,\n",
       " 0.024699312714776628,\n",
       " 0.023195876288659795,\n",
       " 0.02981099656357389,\n",
       " 0.03174398625429553,\n",
       " 0.030498281786941583,\n",
       " 0.029209621993127155,\n",
       " 0.027792096219931256,\n",
       " 0.02762027491408936,\n",
       " 0.029209621993127155,\n",
       " 0.027920962199312727,\n",
       " 0.027061855670103108,\n",
       " 0.027276632302405512,\n",
       " 0.027920962199312727,\n",
       " 0.030927835051546393,\n",
       " 0.03178694158075601,\n",
       " 0.03131443298969072,\n",
       " 0.029166666666666646,\n",
       " 0.028780068728522346,\n",
       " 0.028780068728522346,\n",
       " 0.034278350515463935,\n",
       " 0.04166666666666666,\n",
       " 0.03994845360824742,\n",
       " 0.036512027491408944,\n",
       " 0.03307560137457044,\n",
       " 0.03268900343642614,\n",
       " 0.0313573883161512,\n",
       " 0.029639175257731964,\n",
       " 0.029639175257731964,\n",
       " 0.029639175257731964,\n",
       " 0.029682130584192445,\n",
       " 0.029209621993127155,\n",
       " 0.02981099656357389,\n",
       " 0.028737113402061837,\n",
       " 0.028054123711340195,\n",
       " 0.026039518900343644,\n",
       " 0.026645189003436404,\n",
       " 0.024969931271477674,\n",
       " 0.02547680412371134,\n",
       " 0.027100515463917507,\n",
       " 0.027474226804123703,\n",
       " 0.02687285223367697,\n",
       " 0.027173539518900336,\n",
       " 0.028664089347079036,\n",
       " 0.027908075601374593,\n",
       " 0.026911512027491397,\n",
       " 0.0276073883161512,\n",
       " 0.027478522336769784]"
      ]
     },
     "execution_count": 39,
     "metadata": {},
     "output_type": "execute_result"
    }
   ],
   "source": [
    "temp_input"
   ]
  },
  {
   "cell_type": "code",
   "execution_count": 56,
   "metadata": {},
   "outputs": [],
   "source": [
    "# 📌 Cell 1: Generate 7-day Close predictions\n",
    "from numpy import array\n",
    "\n",
    "lst_output = []\n",
    "n_steps = 100\n",
    "i = 0\n",
    "\n",
    "while i < 7:\n",
    "    if len(temp_input) > 100:\n",
    "        x_input = np.array(temp_input[-n_steps:])\n",
    "        x_input = x_input.reshape((1, n_steps, 1))\n",
    "        yhat = model.predict(x_input, verbose=0)\n",
    "        temp_input.extend(yhat[0].tolist())\n",
    "        temp_input = temp_input[1:]\n",
    "        lst_output.extend(yhat.tolist())\n",
    "        i += 1\n",
    "    else:\n",
    "        x_input = np.array(temp_input).reshape((1, n_steps, 1))\n",
    "        yhat = model.predict(x_input, verbose=0)\n",
    "        temp_input.extend(yhat[0].tolist())\n",
    "        lst_output.extend(yhat.tolist())\n",
    "        i += 1\n",
    "\n",
    "# Inverse scale the predictions\n",
    "forecast_prices = scaler.inverse_transform(np.array(lst_output).reshape(-1, 1)).flatten()\n"
   ]
  },
  {
   "cell_type": "code",
   "execution_count": 62,
   "metadata": {},
   "outputs": [],
   "source": [
    "# 📌 Cell 2: Generate synthetic OHLC for predicted 7 days\n",
    "from datetime import timedelta\n",
    "import numpy as np\n",
    "\n",
    "last_date = pd.to_datetime(df['Date'].iloc[-1])\n",
    "last_close = df['Close'].iloc[-1]\n",
    "\n",
    "predicted_7_days = []\n",
    "\n",
    "for close_price in forecast_prices:\n",
    "    date = last_date + timedelta(days=1)\n",
    "    while date.weekday() >= 5:  # skip weekends\n",
    "        date += timedelta(days=1)\n",
    "\n",
    "    open_price = last_close * (1 + np.random.uniform(-0.01, 0.01))\n",
    "    high_price = max(open_price, close_price) * (1 + np.random.uniform(0.001, 0.015))\n",
    "    low_price = min(open_price, close_price) * (1 - np.random.uniform(0.001, 0.015))\n",
    "\n",
    "    predicted_7_days.append({\n",
    "        \"date\": date.strftime('%Y-%m-%d'),\n",
    "        \"open\": round(open_price, 2),\n",
    "        \"high\": round(high_price, 2),\n",
    "        \"low\": round(low_price, 2),\n",
    "        \"close\": round(close_price, 2)\n",
    "    })\n",
    "\n",
    "    last_close = close_price\n",
    "    last_date = date\n"
   ]
  },
  {
   "cell_type": "code",
   "execution_count": 64,
   "metadata": {},
   "outputs": [],
   "source": [
    "# 📌 Cell 3: Save full JSON (past + prediction)\n",
    "import os\n",
    "import json\n",
    "\n",
    "output_dir = os.path.join(\"predictions\", symbols)\n",
    "os.makedirs(output_dir, exist_ok=True)\n",
    "\n",
    "# Convert 'Date' to datetime\n",
    "df[\"Date\"] = pd.to_datetime(df[\"Date\"])\n",
    "\n",
    "# Pull past 30 OHLC days\n",
    "past_30_df = df[[\"Date\", \"Open\", \"High\", \"Low\", \"Close\"]].tail(30)\n",
    "past_30_list = [\n",
    "    {\n",
    "        \"date\": row[\"Date\"].strftime(\"%Y-%m-%d\"),\n",
    "        \"open\": round(row[\"Open\"], 2),\n",
    "        \"high\": round(row[\"High\"], 2),\n",
    "        \"low\": round(row[\"Low\"], 2),\n",
    "        \"close\": round(row[\"Close\"], 2)\n",
    "    }\n",
    "    for _, row in past_30_df.iterrows()\n",
    "]\n",
    "\n",
    "output_data = {\n",
    "    \"past_30_days\": past_30_list,\n",
    "    \"predicted_7_days\": predicted_7_days,\n",
    "    \"train_rmse\": train_rmse if 'train_rmse' in locals() else None,\n",
    "    \"test_rmse\": test_rmse if 'test_rmse' in locals() else None,\n",
    "    \"train_accuracy\": train_accuracy if 'train_accuracy' in locals() else None,\n",
    "    \"test_accuracy\": test_accuracy if 'test_accuracy' in locals() else None\n",
    "}\n",
    "\n",
    "with open(os.path.join(output_dir, f\"{symbols}.json\"), \"w\") as f:\n",
    "    json.dump(output_data, f, indent=4)\n"
   ]
  },
  {
   "cell_type": "code",
   "execution_count": 44,
   "metadata": {},
   "outputs": [],
   "source": [
    "day_new=np.arange(1,101)\n",
    "day_pred = np.arange(101, 108)  # For 7 days"
   ]
  },
  {
   "cell_type": "code",
   "execution_count": 45,
   "metadata": {},
   "outputs": [],
   "source": [
    "import matplotlib.pyplot as plt"
   ]
  },
  {
   "cell_type": "code",
   "execution_count": 46,
   "metadata": {},
   "outputs": [
    {
     "data": {
      "text/plain": [
       "3000"
      ]
     },
     "execution_count": 46,
     "metadata": {},
     "output_type": "execute_result"
    }
   ],
   "source": [
    "len(df1)"
   ]
  },
  {
   "cell_type": "code",
   "execution_count": 47,
   "metadata": {},
   "outputs": [],
   "source": [
    "import os\n",
    "\n",
    "output_dir = f\"predictions/{symbols}\"\n",
    "os.makedirs(output_dir, exist_ok=True)\n"
   ]
  },
  {
   "cell_type": "code",
   "execution_count": 49,
   "metadata": {},
   "outputs": [],
   "source": [
    "import matplotlib.pyplot as plt\n",
    "\n",
    "plt.figure(figsize=(10, 5))  # Optional: Set figure size for better clarity\n",
    "\n",
    "# Plot past 100 days\n",
    "plt.plot(day_new, scaler.inverse_transform(np.array(df1[-100:]).reshape(-1, 1)), label=\"Past 100 Days\")\n",
    "\n",
    "# Plot next 7 predicted days\n",
    "plt.plot(day_pred, scaler.inverse_transform(np.array(lst_output).reshape(-1, 1)), label=\"Next 7 Days\")\n",
    "\n",
    "plt.title(f\"{symbols} — Forecast vs History\")\n",
    "plt.xlabel(\"Days\")\n",
    "plt.ylabel(\"Closing Price\")\n",
    "plt.legend()\n",
    "plt.grid(True)\n",
    "\n",
    "# Ensure output folder exists\n",
    "os.makedirs(output_dir, exist_ok=True)\n",
    "\n",
    "# Save plot before plt.show()\n",
    "chart_path = os.path.join(output_dir, f\"{symbols}_chart1.png\")\n",
    "plt.savefig(chart_path, bbox_inches=\"tight\")  # Use bbox_inches to capture full content\n",
    "plt.close()  # Close to free memory and prevent display issues in batch runs\n"
   ]
  },
  {
   "cell_type": "code",
   "execution_count": 50,
   "metadata": {},
   "outputs": [
    {
     "data": {
      "text/plain": [
       "[<matplotlib.lines.Line2D at 0x1b145d67c10>]"
      ]
     },
     "execution_count": 50,
     "metadata": {},
     "output_type": "execute_result"
    },
    {
     "data": {
      "image/png": "[encoded data removed]",
      "text/plain": [
       "<Figure size 640x480 with 1 Axes>"
      ]
     },
     "metadata": {},
     "output_type": "display_data"
    }
   ],
   "source": [
    "df3=df1.tolist()\n",
    "df3.extend(lst_output)\n",
    "plt.plot(df3[1200:])"
   ]
  },
  {
   "cell_type": "code",
   "execution_count": 51,
   "metadata": {},
   "outputs": [],
   "source": [
    "df3=scaler.inverse_transform(df3).tolist()"
   ]
  },
  {
   "cell_type": "code",
   "execution_count": 52,
   "metadata": {},
   "outputs": [
    {
     "data": {
      "text/plain": [
       "[<matplotlib.lines.Line2D at 0x1b14053cc90>]"
      ]
     },
     "execution_count": 52,
     "metadata": {},
     "output_type": "execute_result"
    },
    {
     "data": {
      "image/png": "[encoded data removed]",
      "text/plain": [
       "<Figure size 640x480 with 1 Axes>"
      ]
     },
     "metadata": {},
     "output_type": "display_data"
    }
   ],
   "source": [
    "plt.plot(df3)\n"
   ]
  },
  {
   "cell_type": "code",
   "execution_count": 53,
   "metadata": {},
   "outputs": [],
   "source": [
    "last_date = pd.to_datetime(df[\"Date\"].iloc[-1])\n",
    "forecast_dates = [(last_date + pd.Timedelta(days=i)).strftime(\"%Y-%m-%d\") for i in range(1, 8)]\n"
   ]
  },
  {
   "cell_type": "code",
   "execution_count": 54,
   "metadata": {},
   "outputs": [],
   "source": [
    "\n",
    "import os\n",
    "output_dir = 'stock_prediction'\n",
    "os.makedirs(output_dir, exist_ok=True)\n"
   ]
  },
  {
   "cell_type": "code",
   "execution_count": null,
   "metadata": {},
   "outputs": [],
   "source": []
  }
 ],
 "metadata": {
  "kernelspec": {
   "display_name": "Python 3",
   "language": "python",
   "name": "python3"
  },
  "language_info": {
   "codemirror_mode": {
    "name": "ipython",
    "version": 3
   },
   "file_extension": ".py",
   "mimetype": "text/x-python",
   "name": "python",
   "nbconvert_exporter": "python",
   "pygments_lexer": "ipython3",
   "version": "3.11.0rc2"
  }
 },
 "nbformat": 4,
 "nbformat_minor": 4
}
