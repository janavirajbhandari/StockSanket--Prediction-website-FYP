{
 "cells": [
  {
   "cell_type": "markdown",
   "metadata": {
    "editable": true,
    "slideshow": {
     "slide_type": ""
    },
    "tags": []
   },
   "source": [
    "### Stock Market Prediction And Forecasting Using Stacked LSTM"
   ]
  },
  {
   "cell_type": "code",
   "execution_count": 1,
   "metadata": {},
   "outputs": [
    {
     "data": {
      "text/html": [
       "<div>\n",
       "<style scoped>\n",
       "    .dataframe tbody tr th:only-of-type {\n",
       "        vertical-align: middle;\n",
       "    }\n",
       "\n",
       "    .dataframe tbody tr th {\n",
       "        vertical-align: top;\n",
       "    }\n",
       "\n",
       "    .dataframe thead th {\n",
       "        text-align: right;\n",
       "    }\n",
       "</style>\n",
       "<table border=\"1\" class=\"dataframe\">\n",
       "  <thead>\n",
       "    <tr style=\"text-align: right;\">\n",
       "      <th></th>\n",
       "      <th>Date</th>\n",
       "      <th>Open</th>\n",
       "      <th>High</th>\n",
       "      <th>Low</th>\n",
       "      <th>Close</th>\n",
       "      <th>% change</th>\n",
       "      <th>Volume</th>\n",
       "      <th>TurnOver</th>\n",
       "    </tr>\n",
       "  </thead>\n",
       "  <tbody>\n",
       "    <tr>\n",
       "      <th>0</th>\n",
       "      <td>2023-02-23</td>\n",
       "      <td>232.2</td>\n",
       "      <td>232.2</td>\n",
       "      <td>213.2</td>\n",
       "      <td>216.0</td>\n",
       "      <td>-8.8</td>\n",
       "      <td>276758.0</td>\n",
       "      <td>60028868.9</td>\n",
       "    </tr>\n",
       "    <tr>\n",
       "      <th>1</th>\n",
       "      <td>2023-02-23</td>\n",
       "      <td>232.2</td>\n",
       "      <td>232.2</td>\n",
       "      <td>213.2</td>\n",
       "      <td>216.0</td>\n",
       "      <td>-8.8</td>\n",
       "      <td>276758.0</td>\n",
       "      <td>60028868.9</td>\n",
       "    </tr>\n",
       "    <tr>\n",
       "      <th>2</th>\n",
       "      <td>2023-02-23</td>\n",
       "      <td>232.2</td>\n",
       "      <td>232.2</td>\n",
       "      <td>213.2</td>\n",
       "      <td>216.0</td>\n",
       "      <td>-8.8</td>\n",
       "      <td>276758.0</td>\n",
       "      <td>60028868.9</td>\n",
       "    </tr>\n",
       "    <tr>\n",
       "      <th>3</th>\n",
       "      <td>2023-02-23</td>\n",
       "      <td>232.2</td>\n",
       "      <td>232.2</td>\n",
       "      <td>213.2</td>\n",
       "      <td>216.0</td>\n",
       "      <td>-8.8</td>\n",
       "      <td>276758.0</td>\n",
       "      <td>60028868.9</td>\n",
       "    </tr>\n",
       "    <tr>\n",
       "      <th>4</th>\n",
       "      <td>2023-02-23</td>\n",
       "      <td>232.2</td>\n",
       "      <td>232.2</td>\n",
       "      <td>213.2</td>\n",
       "      <td>216.0</td>\n",
       "      <td>-8.8</td>\n",
       "      <td>276758.0</td>\n",
       "      <td>60028868.9</td>\n",
       "    </tr>\n",
       "  </tbody>\n",
       "</table>\n",
       "</div>"
      ],
      "text/plain": [
       "        Date   Open   High    Low  Close  % change    Volume    TurnOver\n",
       "0 2023-02-23  232.2  232.2  213.2  216.0      -8.8  276758.0  60028868.9\n",
       "1 2023-02-23  232.2  232.2  213.2  216.0      -8.8  276758.0  60028868.9\n",
       "2 2023-02-23  232.2  232.2  213.2  216.0      -8.8  276758.0  60028868.9\n",
       "3 2023-02-23  232.2  232.2  213.2  216.0      -8.8  276758.0  60028868.9\n",
       "4 2023-02-23  232.2  232.2  213.2  216.0      -8.8  276758.0  60028868.9"
      ]
     },
     "execution_count": 1,
     "metadata": {},
     "output_type": "execute_result"
    }
   ],
   "source": [
    "import pandas as pd\n",
    "import os\n",
    "\n",
    "symbols = \"NIMB\"\n",
    "csv_path = f\"stock_history/{symbols}.csv\"\n",
    "df = pd.read_csv(csv_path)\n",
    "\n",
    "# Convert 'Date' column to datetime if not already\n",
    "df['Date'] = pd.to_datetime(df['Date'])\n",
    "\n",
    "# Sort the DataFrame by date in ascending order\n",
    "df = df.sort_values('Date').reset_index(drop=True)\n",
    "df.head()\n"
   ]
  },
  {
   "cell_type": "code",
   "execution_count": 2,
   "metadata": {},
   "outputs": [
    {
     "data": {
      "text/html": [
       "<div>\n",
       "<style scoped>\n",
       "    .dataframe tbody tr th:only-of-type {\n",
       "        vertical-align: middle;\n",
       "    }\n",
       "\n",
       "    .dataframe tbody tr th {\n",
       "        vertical-align: top;\n",
       "    }\n",
       "\n",
       "    .dataframe thead th {\n",
       "        text-align: right;\n",
       "    }\n",
       "</style>\n",
       "<table border=\"1\" class=\"dataframe\">\n",
       "  <thead>\n",
       "    <tr style=\"text-align: right;\">\n",
       "      <th></th>\n",
       "      <th>Date</th>\n",
       "      <th>Open</th>\n",
       "      <th>High</th>\n",
       "      <th>Low</th>\n",
       "      <th>Close</th>\n",
       "      <th>% change</th>\n",
       "      <th>Volume</th>\n",
       "      <th>TurnOver</th>\n",
       "    </tr>\n",
       "  </thead>\n",
       "  <tbody>\n",
       "    <tr>\n",
       "      <th>2536</th>\n",
       "      <td>2025-04-03</td>\n",
       "      <td>212.0</td>\n",
       "      <td>233.0</td>\n",
       "      <td>210.1</td>\n",
       "      <td>215.61</td>\n",
       "      <td>1.52</td>\n",
       "      <td>176888.0</td>\n",
       "      <td>38427115.7</td>\n",
       "    </tr>\n",
       "    <tr>\n",
       "      <th>2537</th>\n",
       "      <td>2025-04-07</td>\n",
       "      <td>217.0</td>\n",
       "      <td>217.0</td>\n",
       "      <td>213.0</td>\n",
       "      <td>213.17</td>\n",
       "      <td>-1.13</td>\n",
       "      <td>70903.0</td>\n",
       "      <td>15215780.5</td>\n",
       "    </tr>\n",
       "    <tr>\n",
       "      <th>2538</th>\n",
       "      <td>2025-04-08</td>\n",
       "      <td>211.4</td>\n",
       "      <td>229.0</td>\n",
       "      <td>208.2</td>\n",
       "      <td>213.67</td>\n",
       "      <td>0.23</td>\n",
       "      <td>111787.0</td>\n",
       "      <td>23564279.1</td>\n",
       "    </tr>\n",
       "    <tr>\n",
       "      <th>2539</th>\n",
       "      <td>2025-04-09</td>\n",
       "      <td>217.8</td>\n",
       "      <td>218.0</td>\n",
       "      <td>212.0</td>\n",
       "      <td>213.44</td>\n",
       "      <td>-0.11</td>\n",
       "      <td>45896.0</td>\n",
       "      <td>9829574.0</td>\n",
       "    </tr>\n",
       "    <tr>\n",
       "      <th>2540</th>\n",
       "      <td>2025-04-10</td>\n",
       "      <td>215.0</td>\n",
       "      <td>216.6</td>\n",
       "      <td>212.8</td>\n",
       "      <td>214.03</td>\n",
       "      <td>0.28</td>\n",
       "      <td>62641.0</td>\n",
       "      <td>13410780.4</td>\n",
       "    </tr>\n",
       "  </tbody>\n",
       "</table>\n",
       "</div>"
      ],
      "text/plain": [
       "           Date   Open   High    Low   Close  % change    Volume    TurnOver\n",
       "2536 2025-04-03  212.0  233.0  210.1  215.61      1.52  176888.0  38427115.7\n",
       "2537 2025-04-07  217.0  217.0  213.0  213.17     -1.13   70903.0  15215780.5\n",
       "2538 2025-04-08  211.4  229.0  208.2  213.67      0.23  111787.0  23564279.1\n",
       "2539 2025-04-09  217.8  218.0  212.0  213.44     -0.11   45896.0   9829574.0\n",
       "2540 2025-04-10  215.0  216.6  212.8  214.03      0.28   62641.0  13410780.4"
      ]
     },
     "execution_count": 2,
     "metadata": {},
     "output_type": "execute_result"
    }
   ],
   "source": [
    "df.tail()"
   ]
  },
  {
   "cell_type": "code",
   "execution_count": 3,
   "metadata": {},
   "outputs": [],
   "source": [
    "df1=df.reset_index()['Close']"
   ]
  },
  {
   "cell_type": "code",
   "execution_count": 4,
   "metadata": {},
   "outputs": [
    {
     "data": {
      "text/plain": [
       "0       216.00\n",
       "1       216.00\n",
       "2       216.00\n",
       "3       216.00\n",
       "4       216.00\n",
       "         ...  \n",
       "2536    215.61\n",
       "2537    213.17\n",
       "2538    213.67\n",
       "2539    213.44\n",
       "2540    214.03\n",
       "Name: Close, Length: 2541, dtype: float64"
      ]
     },
     "execution_count": 4,
     "metadata": {},
     "output_type": "execute_result"
    }
   ],
   "source": [
    "df1"
   ]
  },
  {
   "cell_type": "code",
   "execution_count": 5,
   "metadata": {},
   "outputs": [
    {
     "data": {
      "text/plain": [
       "[<matplotlib.lines.Line2D at 0x20f01c6b190>]"
      ]
     },
     "execution_count": 5,
     "metadata": {},
     "output_type": "execute_result"
    },
    {
     "data": {
      "image/png": "[encoded data removed]",
      "text/plain": [
       "<Figure size 640x480 with 1 Axes>"
      ]
     },
     "metadata": {},
     "output_type": "display_data"
    }
   ],
   "source": [
    "import matplotlib.pyplot as plt\n",
    "plt.plot(df1)"
   ]
  },
  {
   "cell_type": "code",
   "execution_count": 6,
   "metadata": {},
   "outputs": [],
   "source": [
    "import numpy as np"
   ]
  },
  {
   "cell_type": "code",
   "execution_count": 7,
   "metadata": {},
   "outputs": [
    {
     "data": {
      "text/plain": [
       "0       216.00\n",
       "1       216.00\n",
       "2       216.00\n",
       "3       216.00\n",
       "4       216.00\n",
       "         ...  \n",
       "2536    215.61\n",
       "2537    213.17\n",
       "2538    213.67\n",
       "2539    213.44\n",
       "2540    214.03\n",
       "Name: Close, Length: 2541, dtype: float64"
      ]
     },
     "execution_count": 7,
     "metadata": {},
     "output_type": "execute_result"
    }
   ],
   "source": [
    "df1"
   ]
  },
  {
   "cell_type": "code",
   "execution_count": 8,
   "metadata": {},
   "outputs": [],
   "source": [
    "from sklearn.preprocessing import MinMaxScaler\n",
    "scaler=MinMaxScaler(feature_range=(0,1))\n",
    "df1=scaler.fit_transform(np.array(df1).reshape(-1,1))\n",
    "\n"
   ]
  },
  {
   "cell_type": "code",
   "execution_count": 9,
   "metadata": {},
   "outputs": [
    {
     "name": "stdout",
     "output_type": "stream",
     "text": [
      "[[0.50943396]\n",
      " [0.50943396]\n",
      " [0.50943396]\n",
      " ...\n",
      " [0.49184906]\n",
      " [0.49011321]\n",
      " [0.49456604]]\n"
     ]
    }
   ],
   "source": [
    "print(df1)"
   ]
  },
  {
   "cell_type": "code",
   "execution_count": 10,
   "metadata": {},
   "outputs": [],
   "source": [
    "##splitting dataset into train and test split\n",
    "training_size=int(len(df1)*0.65)\n",
    "test_size=len(df1)-training_size\n",
    "train_data,test_data=df1[0:training_size,:],df1[training_size:len(df1),:1]"
   ]
  },
  {
   "cell_type": "code",
   "execution_count": 11,
   "metadata": {},
   "outputs": [
    {
     "data": {
      "text/plain": [
       "(1651, 890)"
      ]
     },
     "execution_count": 11,
     "metadata": {},
     "output_type": "execute_result"
    }
   ],
   "source": [
    "training_size,test_size"
   ]
  },
  {
   "cell_type": "code",
   "execution_count": 12,
   "metadata": {},
   "outputs": [
    {
     "data": {
      "text/plain": [
       "array([[0.50943396],\n",
       "       [0.50943396],\n",
       "       [0.50943396],\n",
       "       ...,\n",
       "       [0.32075472],\n",
       "       [0.32075472],\n",
       "       [0.32075472]])"
      ]
     },
     "execution_count": 12,
     "metadata": {},
     "output_type": "execute_result"
    }
   ],
   "source": [
    "train_data"
   ]
  },
  {
   "cell_type": "code",
   "execution_count": 13,
   "metadata": {},
   "outputs": [],
   "source": [
    "import numpy\n",
    "# convert an array of values into a dataset matrix\n",
    "def create_dataset(dataset, time_step=1):\n",
    "\tdataX, dataY = [], []\n",
    "\tfor i in range(len(dataset)-time_step-1):\n",
    "\t\ta = dataset[i:(i+time_step), 0]   ###i=0, 0,1,2,3-----99   100 \n",
    "\t\tdataX.append(a)\n",
    "\t\tdataY.append(dataset[i + time_step, 0])\n",
    "\treturn numpy.array(dataX), numpy.array(dataY)"
   ]
  },
  {
   "cell_type": "code",
   "execution_count": 14,
   "metadata": {},
   "outputs": [],
   "source": [
    "# reshape into X=t,t+1,t+2,t+3 and Y=t+4\n",
    "time_step = 100\n",
    "X_train, y_train = create_dataset(train_data, time_step)\n",
    "X_test, ytest = create_dataset(test_data, time_step)"
   ]
  },
  {
   "cell_type": "code",
   "execution_count": 15,
   "metadata": {},
   "outputs": [
    {
     "name": "stdout",
     "output_type": "stream",
     "text": [
      "(1550, 100)\n",
      "(1550,)\n"
     ]
    },
    {
     "data": {
      "text/plain": [
       "(None, None)"
      ]
     },
     "execution_count": 15,
     "metadata": {},
     "output_type": "execute_result"
    }
   ],
   "source": [
    "print(X_train.shape), print(y_train.shape)"
   ]
  },
  {
   "cell_type": "code",
   "execution_count": 16,
   "metadata": {},
   "outputs": [
    {
     "name": "stdout",
     "output_type": "stream",
     "text": [
      "(789, 100)\n",
      "(789,)\n"
     ]
    },
    {
     "data": {
      "text/plain": [
       "(None, None)"
      ]
     },
     "execution_count": 16,
     "metadata": {},
     "output_type": "execute_result"
    }
   ],
   "source": [
    "print(X_test.shape), print(ytest.shape)"
   ]
  },
  {
   "cell_type": "code",
   "execution_count": 17,
   "metadata": {},
   "outputs": [],
   "source": [
    "# reshape input to be [samples, time steps, features] which is required for LSTM\n",
    "X_train =X_train.reshape(X_train.shape[0],X_train.shape[1] , 1)\n",
    "X_test = X_test.reshape(X_test.shape[0],X_test.shape[1] , 1)"
   ]
  },
  {
   "cell_type": "code",
   "execution_count": 18,
   "metadata": {},
   "outputs": [],
   "source": [
    "### Create the Stacked LSTM model\n",
    "from tensorflow.keras.models import Sequential\n",
    "from tensorflow.keras.layers import Dense\n",
    "from tensorflow.keras.layers import LSTM"
   ]
  },
  {
   "cell_type": "code",
   "execution_count": 19,
   "metadata": {},
   "outputs": [
    {
     "name": "stdout",
     "output_type": "stream",
     "text": [
      "Model: \"sequential\"\n",
      "_________________________________________________________________\n",
      " Layer (type)                Output Shape              Param #   \n",
      "=================================================================\n",
      " lstm (LSTM)                 (None, 100, 50)           10400     \n",
      "                                                                 \n",
      " dropout (Dropout)           (None, 100, 50)           0         \n",
      "                                                                 \n",
      " lstm_1 (LSTM)               (None, 100, 50)           20200     \n",
      "                                                                 \n",
      " dropout_1 (Dropout)         (None, 100, 50)           0         \n",
      "                                                                 \n",
      " lstm_2 (LSTM)               (None, 50)                20200     \n",
      "                                                                 \n",
      " dropout_2 (Dropout)         (None, 50)                0         \n",
      "                                                                 \n",
      " dense (Dense)               (None, 1)                 51        \n",
      "                                                                 \n",
      "=================================================================\n",
      "Total params: 50851 (198.64 KB)\n",
      "Trainable params: 50851 (198.64 KB)\n",
      "Non-trainable params: 0 (0.00 Byte)\n",
      "_________________________________________________________________\n"
     ]
    },
    {
     "name": "stderr",
     "output_type": "stream",
     "text": [
      "c:\\Users\\Bishal\\AppData\\Local\\Programs\\Python\\Python311\\Lib\\site-packages\\keras\\src\\engine\\training.py:3000: UserWarning: You are saving your model as an HDF5 file via `model.save()`. This file format is considered legacy. We recommend using instead the native Keras format, e.g. `model.save('my_model.keras')`.\n",
      "  saving_api.save_model(\n"
     ]
    }
   ],
   "source": [
    "from tensorflow.keras.layers import Dropout\n",
    "\n",
    "# Define LSTM model\n",
    "model = Sequential([\n",
    "    LSTM(50, return_sequences=True, input_shape=(100, 1)),\n",
    "    Dropout(0.2),\n",
    "    LSTM(50, return_sequences=True),\n",
    "    Dropout(0.2),\n",
    "    LSTM(50),\n",
    "    Dropout(0.2),\n",
    "    Dense(1)\n",
    "])\n",
    "\n",
    "# Compile Model\n",
    "model.compile(loss='mean_squared_error', optimizer='adam')\n",
    "\n",
    "# Save the trained model (after training)\n",
    "model.save(\"StockSanket.h5\")\n",
    "\n",
    "\n",
    "\n",
    "# Print the model summary (optional)\n",
    "model.summary()\n"
   ]
  },
  {
   "cell_type": "code",
   "execution_count": 20,
   "metadata": {},
   "outputs": [
    {
     "name": "stdout",
     "output_type": "stream",
     "text": [
      "Epoch 1/100\n",
      "49/49 [==============================] - 14s 171ms/step - loss: 0.0074 - val_loss: 0.0092\n",
      "Epoch 2/100\n",
      "49/49 [==============================] - 9s 180ms/step - loss: 0.0013 - val_loss: 0.0066\n",
      "Epoch 3/100\n",
      "49/49 [==============================] - 9s 184ms/step - loss: 0.0010 - val_loss: 0.0056\n",
      "Epoch 4/100\n",
      "49/49 [==============================] - 8s 174ms/step - loss: 9.6646e-04 - val_loss: 0.0057\n",
      "Epoch 5/100\n",
      "49/49 [==============================] - 9s 180ms/step - loss: 7.5761e-04 - val_loss: 0.0056\n",
      "Epoch 6/100\n",
      "49/49 [==============================] - 9s 195ms/step - loss: 8.4776e-04 - val_loss: 0.0056\n",
      "Epoch 7/100\n",
      "49/49 [==============================] - 7s 138ms/step - loss: 7.5327e-04 - val_loss: 0.0055\n",
      "Epoch 8/100\n",
      "49/49 [==============================] - 6s 126ms/step - loss: 8.7673e-04 - val_loss: 0.0058\n",
      "Epoch 9/100\n",
      "49/49 [==============================] - 6s 118ms/step - loss: 7.7306e-04 - val_loss: 0.0054\n",
      "Epoch 10/100\n",
      "49/49 [==============================] - 7s 134ms/step - loss: 6.6054e-04 - val_loss: 0.0055\n",
      "Epoch 11/100\n",
      "49/49 [==============================] - 6s 126ms/step - loss: 6.9257e-04 - val_loss: 0.0055\n",
      "Epoch 12/100\n",
      "49/49 [==============================] - 8s 157ms/step - loss: 5.9884e-04 - val_loss: 0.0058\n",
      "Epoch 13/100\n",
      "49/49 [==============================] - 7s 140ms/step - loss: 7.1913e-04 - val_loss: 0.0054\n",
      "Epoch 14/100\n",
      "49/49 [==============================] - 7s 136ms/step - loss: 6.2066e-04 - val_loss: 0.0053\n",
      "Epoch 15/100\n",
      "49/49 [==============================] - 7s 141ms/step - loss: 5.9971e-04 - val_loss: 0.0053\n",
      "Epoch 16/100\n",
      "49/49 [==============================] - 7s 145ms/step - loss: 5.4533e-04 - val_loss: 0.0053\n",
      "Epoch 17/100\n",
      "49/49 [==============================] - 7s 143ms/step - loss: 5.4487e-04 - val_loss: 0.0052\n",
      "Epoch 18/100\n",
      "49/49 [==============================] - 7s 134ms/step - loss: 5.0616e-04 - val_loss: 0.0053\n",
      "Epoch 19/100\n",
      "49/49 [==============================] - 7s 135ms/step - loss: 5.1129e-04 - val_loss: 0.0052\n",
      "Epoch 20/100\n",
      "49/49 [==============================] - 7s 142ms/step - loss: 5.3960e-04 - val_loss: 0.0051\n",
      "Epoch 21/100\n",
      "49/49 [==============================] - 6s 128ms/step - loss: 4.3671e-04 - val_loss: 0.0050\n",
      "Epoch 22/100\n",
      "49/49 [==============================] - 7s 137ms/step - loss: 4.5900e-04 - val_loss: 0.0050\n",
      "Epoch 23/100\n",
      "49/49 [==============================] - 8s 152ms/step - loss: 4.3261e-04 - val_loss: 0.0050\n",
      "Epoch 24/100\n",
      "49/49 [==============================] - 7s 143ms/step - loss: 4.0412e-04 - val_loss: 0.0049\n",
      "Epoch 25/100\n",
      "49/49 [==============================] - 7s 142ms/step - loss: 4.1409e-04 - val_loss: 0.0049\n",
      "Epoch 26/100\n",
      "49/49 [==============================] - 9s 179ms/step - loss: 3.5196e-04 - val_loss: 0.0048\n",
      "Epoch 27/100\n",
      "49/49 [==============================] - 8s 158ms/step - loss: 3.8710e-04 - val_loss: 0.0049\n",
      "Epoch 28/100\n",
      "49/49 [==============================] - 9s 186ms/step - loss: 3.6583e-04 - val_loss: 0.0048\n",
      "Epoch 29/100\n",
      "49/49 [==============================] - 15s 304ms/step - loss: 3.1648e-04 - val_loss: 0.0047\n",
      "Epoch 30/100\n",
      "49/49 [==============================] - 8s 161ms/step - loss: 3.2299e-04 - val_loss: 0.0047\n",
      "Epoch 31/100\n",
      "49/49 [==============================] - 8s 174ms/step - loss: 3.3630e-04 - val_loss: 0.0045\n",
      "Epoch 32/100\n",
      "49/49 [==============================] - 13s 260ms/step - loss: 3.2304e-04 - val_loss: 0.0045\n",
      "Epoch 33/100\n",
      "49/49 [==============================] - 14s 286ms/step - loss: 2.8886e-04 - val_loss: 0.0045\n",
      "Epoch 34/100\n",
      "49/49 [==============================] - 14s 278ms/step - loss: 3.0106e-04 - val_loss: 0.0044\n",
      "Epoch 35/100\n",
      "49/49 [==============================] - 14s 286ms/step - loss: 2.7926e-04 - val_loss: 0.0043\n",
      "Epoch 36/100\n",
      "49/49 [==============================] - 8s 160ms/step - loss: 2.5602e-04 - val_loss: 0.0043\n",
      "Epoch 37/100\n",
      "49/49 [==============================] - 8s 162ms/step - loss: 2.6848e-04 - val_loss: 0.0043\n",
      "Epoch 38/100\n",
      "49/49 [==============================] - 7s 149ms/step - loss: 2.5382e-04 - val_loss: 0.0044\n",
      "Epoch 39/100\n",
      "49/49 [==============================] - 7s 135ms/step - loss: 2.4917e-04 - val_loss: 0.0042\n",
      "Epoch 40/100\n",
      "49/49 [==============================] - 7s 139ms/step - loss: 2.4854e-04 - val_loss: 0.0041\n",
      "Epoch 41/100\n",
      "49/49 [==============================] - 6s 132ms/step - loss: 2.2734e-04 - val_loss: 0.0041\n",
      "Epoch 42/100\n",
      "49/49 [==============================] - 7s 144ms/step - loss: 2.0862e-04 - val_loss: 0.0040\n",
      "Epoch 43/100\n",
      "49/49 [==============================] - 7s 137ms/step - loss: 1.9341e-04 - val_loss: 0.0039\n",
      "Epoch 44/100\n",
      "49/49 [==============================] - 6s 131ms/step - loss: 2.1431e-04 - val_loss: 0.0040\n",
      "Epoch 45/100\n",
      "49/49 [==============================] - 7s 134ms/step - loss: 1.9277e-04 - val_loss: 0.0038\n",
      "Epoch 46/100\n",
      "49/49 [==============================] - 6s 132ms/step - loss: 1.6921e-04 - val_loss: 0.0038\n",
      "Epoch 47/100\n",
      "49/49 [==============================] - 7s 142ms/step - loss: 1.7941e-04 - val_loss: 0.0038\n",
      "Epoch 48/100\n",
      "49/49 [==============================] - 7s 144ms/step - loss: 1.6919e-04 - val_loss: 0.0037\n",
      "Epoch 49/100\n",
      "49/49 [==============================] - 7s 147ms/step - loss: 1.6337e-04 - val_loss: 0.0037\n",
      "Epoch 50/100\n",
      "49/49 [==============================] - 8s 168ms/step - loss: 1.6440e-04 - val_loss: 0.0037\n",
      "Epoch 51/100\n",
      "49/49 [==============================] - 7s 145ms/step - loss: 1.5750e-04 - val_loss: 0.0036\n",
      "Epoch 52/100\n",
      "49/49 [==============================] - 7s 150ms/step - loss: 1.5095e-04 - val_loss: 0.0035\n",
      "Epoch 53/100\n",
      "49/49 [==============================] - 7s 145ms/step - loss: 1.3033e-04 - val_loss: 0.0035\n",
      "Epoch 54/100\n",
      "49/49 [==============================] - 7s 135ms/step - loss: 1.4607e-04 - val_loss: 0.0035\n",
      "Epoch 55/100\n",
      "49/49 [==============================] - 9s 177ms/step - loss: 1.3731e-04 - val_loss: 0.0034\n",
      "Epoch 56/100\n",
      "49/49 [==============================] - 8s 160ms/step - loss: 1.2981e-04 - val_loss: 0.0034\n",
      "Epoch 57/100\n",
      "49/49 [==============================] - 8s 168ms/step - loss: 1.2043e-04 - val_loss: 0.0034\n",
      "Epoch 58/100\n",
      "49/49 [==============================] - 7s 147ms/step - loss: 1.1824e-04 - val_loss: 0.0033\n",
      "Epoch 59/100\n",
      "49/49 [==============================] - 6s 130ms/step - loss: 1.1114e-04 - val_loss: 0.0033\n",
      "Epoch 60/100\n",
      "49/49 [==============================] - 11s 222ms/step - loss: 1.1009e-04 - val_loss: 0.0034\n",
      "Epoch 61/100\n",
      "49/49 [==============================] - 8s 160ms/step - loss: 1.0922e-04 - val_loss: 0.0032\n",
      "Epoch 62/100\n",
      "49/49 [==============================] - 7s 147ms/step - loss: 9.7159e-05 - val_loss: 0.0033\n",
      "Epoch 63/100\n",
      "49/49 [==============================] - 7s 135ms/step - loss: 1.0224e-04 - val_loss: 0.0031\n",
      "Epoch 64/100\n",
      "49/49 [==============================] - 6s 132ms/step - loss: 1.0763e-04 - val_loss: 0.0031\n",
      "Epoch 65/100\n",
      "49/49 [==============================] - 9s 194ms/step - loss: 9.2981e-05 - val_loss: 0.0031\n",
      "Epoch 66/100\n",
      "49/49 [==============================] - 11s 222ms/step - loss: 9.1601e-05 - val_loss: 0.0031\n",
      "Epoch 67/100\n",
      "49/49 [==============================] - 6s 127ms/step - loss: 8.9245e-05 - val_loss: 0.0031\n",
      "Epoch 68/100\n",
      "49/49 [==============================] - 7s 143ms/step - loss: 9.3536e-05 - val_loss: 0.0030\n",
      "Epoch 69/100\n",
      "49/49 [==============================] - 13s 264ms/step - loss: 8.7261e-05 - val_loss: 0.0030\n",
      "Epoch 70/100\n",
      "49/49 [==============================] - 12s 250ms/step - loss: 8.5969e-05 - val_loss: 0.0030\n",
      "Epoch 71/100\n",
      "49/49 [==============================] - 15s 305ms/step - loss: 8.5585e-05 - val_loss: 0.0030\n",
      "Epoch 72/100\n",
      "49/49 [==============================] - 14s 293ms/step - loss: 8.6529e-05 - val_loss: 0.0029\n",
      "Epoch 73/100\n",
      "49/49 [==============================] - 14s 284ms/step - loss: 8.4532e-05 - val_loss: 0.0030\n",
      "Epoch 74/100\n",
      "49/49 [==============================] - 15s 311ms/step - loss: 8.2387e-05 - val_loss: 0.0029\n",
      "Epoch 75/100\n",
      "49/49 [==============================] - 15s 297ms/step - loss: 7.5614e-05 - val_loss: 0.0028\n",
      "Epoch 76/100\n",
      "49/49 [==============================] - 15s 313ms/step - loss: 7.5264e-05 - val_loss: 0.0028\n",
      "Epoch 77/100\n",
      "49/49 [==============================] - 12s 239ms/step - loss: 7.3728e-05 - val_loss: 0.0028\n",
      "Epoch 78/100\n",
      "49/49 [==============================] - 7s 148ms/step - loss: 7.4153e-05 - val_loss: 0.0027\n",
      "Epoch 79/100\n",
      "49/49 [==============================] - 7s 146ms/step - loss: 7.4431e-05 - val_loss: 0.0028\n",
      "Epoch 80/100\n",
      "49/49 [==============================] - 7s 148ms/step - loss: 7.5964e-05 - val_loss: 0.0027\n",
      "Epoch 81/100\n",
      "49/49 [==============================] - 7s 143ms/step - loss: 8.3135e-05 - val_loss: 0.0028\n",
      "Epoch 82/100\n",
      "49/49 [==============================] - 7s 149ms/step - loss: 7.6361e-05 - val_loss: 0.0027\n",
      "Epoch 83/100\n",
      "49/49 [==============================] - 8s 155ms/step - loss: 7.7444e-05 - val_loss: 0.0026\n",
      "Epoch 84/100\n",
      "49/49 [==============================] - 11s 231ms/step - loss: 8.3553e-05 - val_loss: 0.0027\n",
      "Epoch 85/100\n",
      "49/49 [==============================] - 7s 146ms/step - loss: 6.3758e-05 - val_loss: 0.0026\n",
      "Epoch 86/100\n",
      "49/49 [==============================] - 8s 169ms/step - loss: 7.3513e-05 - val_loss: 0.0026\n",
      "Epoch 87/100\n",
      "49/49 [==============================] - 9s 193ms/step - loss: 7.0716e-05 - val_loss: 0.0026\n",
      "Epoch 88/100\n",
      "49/49 [==============================] - 14s 283ms/step - loss: 6.7180e-05 - val_loss: 0.0025\n",
      "Epoch 89/100\n",
      "49/49 [==============================] - 11s 234ms/step - loss: 7.5301e-05 - val_loss: 0.0025\n",
      "Epoch 90/100\n",
      "49/49 [==============================] - 11s 234ms/step - loss: 6.0370e-05 - val_loss: 0.0025\n",
      "Epoch 91/100\n",
      "49/49 [==============================] - 10s 195ms/step - loss: 5.8361e-05 - val_loss: 0.0025\n",
      "Epoch 92/100\n",
      "49/49 [==============================] - 15s 302ms/step - loss: 6.0131e-05 - val_loss: 0.0025\n",
      "Epoch 93/100\n",
      "49/49 [==============================] - 14s 294ms/step - loss: 6.5438e-05 - val_loss: 0.0025\n",
      "Epoch 94/100\n",
      "49/49 [==============================] - 15s 307ms/step - loss: 6.2369e-05 - val_loss: 0.0025\n",
      "Epoch 95/100\n",
      "49/49 [==============================] - 14s 294ms/step - loss: 6.4021e-05 - val_loss: 0.0024\n",
      "Epoch 96/100\n",
      "49/49 [==============================] - 15s 300ms/step - loss: 6.1374e-05 - val_loss: 0.0024\n",
      "Epoch 97/100\n",
      "49/49 [==============================] - 12s 243ms/step - loss: 6.2767e-05 - val_loss: 0.0024\n",
      "Epoch 98/100\n",
      "49/49 [==============================] - 8s 169ms/step - loss: 6.2290e-05 - val_loss: 0.0024\n",
      "Epoch 99/100\n",
      "49/49 [==============================] - 8s 159ms/step - loss: 6.9087e-05 - val_loss: 0.0024\n",
      "Epoch 100/100\n",
      "49/49 [==============================] - 8s 155ms/step - loss: 6.0490e-05 - val_loss: 0.0023\n"
     ]
    },
    {
     "data": {
      "text/plain": [
       "<keras.src.callbacks.History at 0x20f1d92fc10>"
      ]
     },
     "execution_count": 20,
     "metadata": {},
     "output_type": "execute_result"
    }
   ],
   "source": [
    "from tensorflow.keras.callbacks import EarlyStopping\n",
    "\n",
    "early_stop = EarlyStopping(monitor='val_loss', patience=5, restore_best_weights=True)\n",
    "\n",
    "model.fit(X_train,y_train,\n",
    "          validation_data=(X_test, ytest), \n",
    "          epochs=100, batch_size=32, callbacks=[early_stop], verbose=1)\n"
   ]
  },
  {
   "cell_type": "code",
   "execution_count": 21,
   "metadata": {},
   "outputs": [],
   "source": [
    "import tensorflow as tf"
   ]
  },
  {
   "cell_type": "code",
   "execution_count": 22,
   "metadata": {},
   "outputs": [
    {
     "data": {
      "text/plain": [
       "'2.13.0'"
      ]
     },
     "execution_count": 22,
     "metadata": {},
     "output_type": "execute_result"
    }
   ],
   "source": [
    "tf.__version__"
   ]
  },
  {
   "cell_type": "code",
   "execution_count": 23,
   "metadata": {},
   "outputs": [
    {
     "name": "stdout",
     "output_type": "stream",
     "text": [
      "49/49 [==============================] - 5s 40ms/step\n",
      "25/25 [==============================] - 1s 38ms/step\n"
     ]
    }
   ],
   "source": [
    "### Lets Do the prediction and check performance metrics\n",
    "train_predict=model.predict(X_train)\n",
    "test_predict=model.predict(X_test)"
   ]
  },
  {
   "cell_type": "code",
   "execution_count": 24,
   "metadata": {},
   "outputs": [],
   "source": [
    "##Transformback to original form\n",
    "train_predict=scaler.inverse_transform(train_predict)\n",
    "test_predict=scaler.inverse_transform(test_predict)"
   ]
  },
  {
   "cell_type": "code",
   "execution_count": 25,
   "metadata": {},
   "outputs": [],
   "source": [
    "# Calculate RMSE for training and testing\n",
    "from sklearn.metrics import mean_squared_error\n",
    "import math\n",
    "\n",
    "train_rmse = math.sqrt(mean_squared_error(y_train, train_predict))\n",
    "test_rmse = math.sqrt(mean_squared_error(ytest, test_predict))\n"
   ]
  },
  {
   "cell_type": "code",
   "execution_count": 26,
   "metadata": {},
   "outputs": [
    {
     "name": "stderr",
     "output_type": "stream",
     "text": [
      "C:\\Users\\Bishal\\AppData\\Local\\Temp\\ipykernel_3716\\117373069.py:3: RuntimeWarning: divide by zero encountered in divide\n",
      "  return np.mean(np.abs((y_true - y_pred) / y_true)) * 100\n"
     ]
    }
   ],
   "source": [
    "def mean_absolute_percentage_error(y_true, y_pred):\n",
    "    y_true, y_pred = np.array(y_true), np.array(y_pred)\n",
    "    return np.mean(np.abs((y_true - y_pred) / y_true)) * 100\n",
    "\n",
    "train_mape = mean_absolute_percentage_error(y_train, train_predict)\n",
    "test_mape = mean_absolute_percentage_error(ytest, test_predict)\n",
    "\n",
    "train_accuracy = 100 - train_mape\n",
    "test_accuracy = 100 - test_mape\n"
   ]
  },
  {
   "cell_type": "code",
   "execution_count": 27,
   "metadata": {},
   "outputs": [
    {
     "data": {
      "image/png": "[encoded data removed]",
      "text/plain": [
       "<Figure size 640x480 with 1 Axes>"
      ]
     },
     "metadata": {},
     "output_type": "display_data"
    }
   ],
   "source": [
    "### Plotting \n",
    "# shift train predictions for plotting\n",
    "look_back=100\n",
    "trainPredictPlot = numpy.empty_like(df1)\n",
    "trainPredictPlot[:, :] = np.nan\n",
    "trainPredictPlot[look_back:len(train_predict)+look_back, :] = train_predict\n",
    "# shift test predictions for plotting\n",
    "testPredictPlot = numpy.empty_like(df1)\n",
    "testPredictPlot[:, :] = numpy.nan\n",
    "testPredictPlot[len(train_predict)+(look_back*2)+1:len(df1)-1, :] = test_predict\n",
    "# plot baseline and predictions\n",
    "plt.plot(scaler.inverse_transform(df1))\n",
    "plt.plot(trainPredictPlot)\n",
    "plt.plot(testPredictPlot)\n",
    "plt.show()\n"
   ]
  },
  {
   "cell_type": "code",
   "execution_count": 28,
   "metadata": {},
   "outputs": [
    {
     "data": {
      "text/plain": [
       "890"
      ]
     },
     "execution_count": 28,
     "metadata": {},
     "output_type": "execute_result"
    }
   ],
   "source": [
    "len(test_data)"
   ]
  },
  {
   "cell_type": "code",
   "execution_count": 29,
   "metadata": {},
   "outputs": [
    {
     "data": {
      "text/plain": [
       "(1, 549)"
      ]
     },
     "execution_count": 29,
     "metadata": {},
     "output_type": "execute_result"
    }
   ],
   "source": [
    "x_input=test_data[341:].reshape(1,-1)\n",
    "x_input.shape\n"
   ]
  },
  {
   "cell_type": "code",
   "execution_count": 30,
   "metadata": {},
   "outputs": [],
   "source": [
    "temp_input=list(x_input)\n",
    "temp_input=temp_input[0].tolist()"
   ]
  },
  {
   "cell_type": "code",
   "execution_count": 31,
   "metadata": {},
   "outputs": [
    {
     "data": {
      "text/plain": [
       "[0.2566037735849056,\n",
       " 0.2566037735849056,\n",
       " 0.2566037735849056,\n",
       " 0.2566037735849056,\n",
       " 0.2566037735849056,\n",
       " 0.2566037735849056,\n",
       " 0.2566037735849056,\n",
       " 0.2566037735849056,\n",
       " 0.2566037735849056,\n",
       " 0.2566037735849056,\n",
       " 0.2566037735849056,\n",
       " 0.2566037735849056,\n",
       " 0.2566037735849056,\n",
       " 0.2566037735849056,\n",
       " 0.2566037735849056,\n",
       " 0.2566037735849056,\n",
       " 0.2566037735849056,\n",
       " 0.2566037735849056,\n",
       " 0.2566037735849056,\n",
       " 0.2566037735849056,\n",
       " 0.2566037735849056,\n",
       " 0.2566037735849056,\n",
       " 0.2566037735849056,\n",
       " 0.2566037735849056,\n",
       " 0.2566037735849056,\n",
       " 0.2566037735849056,\n",
       " 0.2566037735849056,\n",
       " 0.2566037735849056,\n",
       " 0.2566037735849056,\n",
       " 0.2566037735849056,\n",
       " 0.2566037735849056,\n",
       " 0.2566037735849056,\n",
       " 0.2566037735849056,\n",
       " 0.2566037735849056,\n",
       " 0.2566037735849056,\n",
       " 0.2566037735849056,\n",
       " 0.2566037735849056,\n",
       " 0.2566037735849056,\n",
       " 0.2566037735849056,\n",
       " 0.2566037735849056,\n",
       " 0.2566037735849056,\n",
       " 0.2566037735849056,\n",
       " 0.2566037735849056,\n",
       " 0.2566037735849056,\n",
       " 0.2566037735849056,\n",
       " 0.2566037735849056,\n",
       " 0.2566037735849056,\n",
       " 0.2566037735849056,\n",
       " 0.26641509433962285,\n",
       " 0.26641509433962285,\n",
       " 0.26641509433962285,\n",
       " 0.26641509433962285,\n",
       " 0.26641509433962285,\n",
       " 0.26641509433962285,\n",
       " 0.26641509433962285,\n",
       " 0.26641509433962285,\n",
       " 0.26641509433962285,\n",
       " 0.26641509433962285,\n",
       " 0.26641509433962285,\n",
       " 0.26641509433962285,\n",
       " 0.26641509433962285,\n",
       " 0.26641509433962285,\n",
       " 0.26641509433962285,\n",
       " 0.26641509433962285,\n",
       " 0.26641509433962285,\n",
       " 0.26641509433962285,\n",
       " 0.26641509433962285,\n",
       " 0.26641509433962285,\n",
       " 0.26641509433962285,\n",
       " 0.26641509433962285,\n",
       " 0.26641509433962285,\n",
       " 0.26641509433962285,\n",
       " 0.26641509433962285,\n",
       " 0.26641509433962285,\n",
       " 0.26641509433962285,\n",
       " 0.26641509433962285,\n",
       " 0.26641509433962285,\n",
       " 0.26641509433962285,\n",
       " 0.26641509433962285,\n",
       " 0.26641509433962285,\n",
       " 0.26641509433962285,\n",
       " 0.26641509433962285,\n",
       " 0.26641509433962285,\n",
       " 0.26641509433962285,\n",
       " 0.26641509433962285,\n",
       " 0.26641509433962285,\n",
       " 0.26641509433962285,\n",
       " 0.26641509433962285,\n",
       " 0.26641509433962285,\n",
       " 0.26641509433962285,\n",
       " 0.26641509433962285,\n",
       " 0.26641509433962285,\n",
       " 0.26641509433962285,\n",
       " 0.26641509433962285,\n",
       " 0.26641509433962285,\n",
       " 0.26641509433962285,\n",
       " 0.26641509433962285,\n",
       " 0.26641509433962285,\n",
       " 0.26641509433962285,\n",
       " 0.26792452830188673,\n",
       " 0.26415094339622636,\n",
       " 0.25962264150943404,\n",
       " 0.2528301886792452,\n",
       " 0.2520754716981133,\n",
       " 0.24981132075471701,\n",
       " 0.2415094339622641,\n",
       " 0.2347169811320755,\n",
       " 0.23169811320754707,\n",
       " 0.2400000000000002,\n",
       " 0.23773584905660372,\n",
       " 0.23169811320754707,\n",
       " 0.2249056603773587,\n",
       " 0.23396226415094334,\n",
       " 0.23773584905660372,\n",
       " 0.2528301886792452,\n",
       " 0.26641509433962285,\n",
       " 0.24603773584905664,\n",
       " 0.2732075471698112,\n",
       " 0.2716981132075471,\n",
       " 0.2649056603773585,\n",
       " 0.23094339622641513,\n",
       " 0.21509433962264146,\n",
       " 0.21509433962264146,\n",
       " 0.2249056603773587,\n",
       " 0.21207547169811325,\n",
       " 0.21509433962264146,\n",
       " 0.20830188679245287,\n",
       " 0.20830188679245287,\n",
       " 0.20905660377358481,\n",
       " 0.22264150943396221,\n",
       " 0.23396226415094334,\n",
       " 0.2430188679245282,\n",
       " 0.2566037735849056,\n",
       " 0.260377358490566,\n",
       " 0.2415094339622641,\n",
       " 0.23849056603773588,\n",
       " 0.22716981132075476,\n",
       " 0.21433962264150952,\n",
       " 0.22264150943396221,\n",
       " 0.20377358490566033,\n",
       " 0.29509433962264153,\n",
       " 0.28981132075471705,\n",
       " 0.22339622641509438,\n",
       " 0.2075471698113207,\n",
       " 0.20603773584905682,\n",
       " 0.19169811320754726,\n",
       " 0.18867924528301883,\n",
       " 0.19169811320754726,\n",
       " 0.1758490566037738,\n",
       " 0.199245283018868,\n",
       " 0.19094339622641532,\n",
       " 0.199245283018868,\n",
       " 0.19094339622641532,\n",
       " 0.26792452830188673,\n",
       " 0.27471698113207554,\n",
       " 0.3479245283018868,\n",
       " 0.3735849056603775,\n",
       " 0.5011320754716981,\n",
       " 0.42641509433962277,\n",
       " 0.3781132075471698,\n",
       " 0.36377358490566025,\n",
       " 0.34037735849056605,\n",
       " 0.328301886792453,\n",
       " 0.3373584905660376,\n",
       " 0.32000000000000006,\n",
       " 0.328301886792453,\n",
       " 0.3275471698113208,\n",
       " 0.2528301886792452,\n",
       " 0.2075471698113207,\n",
       " 0.21509433962264146,\n",
       " 0.23698113207547178,\n",
       " 0.23018867924528297,\n",
       " 0.24075471698113216,\n",
       " 0.2566037735849056,\n",
       " 0.2347169811320755,\n",
       " 0.2181132075471699,\n",
       " 0.23698113207547178,\n",
       " 0.2430188679245282,\n",
       " 0.22264150943396221,\n",
       " 0.21584905660377363,\n",
       " 0.23396226415094334,\n",
       " 0.23169811320754707,\n",
       " 0.21660377358490557,\n",
       " 0.22339622641509438,\n",
       " 0.22113207547169833,\n",
       " 0.2075471698113207,\n",
       " 0.1939622641509433,\n",
       " 0.2075471698113207,\n",
       " 0.20377358490566033,\n",
       " 0.19999999999999996,\n",
       " 0.20150943396226406,\n",
       " 0.21886792452830184,\n",
       " 0.19999999999999996,\n",
       " 0.20377358490566033,\n",
       " 0.19320754716981137,\n",
       " 0.19773584905660369,\n",
       " 0.19999999999999996,\n",
       " 0.23622641509433984,\n",
       " 0.23773584905660372,\n",
       " 0.23018867924528297,\n",
       " 0.22037735849056594,\n",
       " 0.219622641509434,\n",
       " 0.2075471698113207,\n",
       " 0.20377358490566033,\n",
       " 0.2075471698113207,\n",
       " 0.21584905660377363,\n",
       " 0.2181132075471699,\n",
       " 0.20075471698113212,\n",
       " 0.20226415094339645,\n",
       " 0.20075471698113212,\n",
       " 0.2075471698113207,\n",
       " 0.19320754716981137,\n",
       " 0.18716981132075494,\n",
       " 0.19999999999999996,\n",
       " 0.21358490566037758,\n",
       " 0.21132075471698109,\n",
       " 0.19999999999999996,\n",
       " 0.19999999999999996,\n",
       " 0.19169811320754726,\n",
       " 0.18867924528301883,\n",
       " 0.18490566037735845,\n",
       " 0.189433962264151,\n",
       " 0.1924528301886792,\n",
       " 0.1924528301886792,\n",
       " 0.19698113207547174,\n",
       " 0.19320754716981137,\n",
       " 0.19999999999999996,\n",
       " 0.1947169811320757,\n",
       " 0.20905660377358481,\n",
       " 0.2724528301886793,\n",
       " 0.26792452830188673,\n",
       " 0.2528301886792452,\n",
       " 0.2528301886792452,\n",
       " 0.24905660377358485,\n",
       " 0.23018867924528297,\n",
       " 0.22264150943396221,\n",
       " 0.19999999999999996,\n",
       " 0.19698113207547174,\n",
       " 0.19773584905660369,\n",
       " 0.20226415094339645,\n",
       " 0.2528301886792452,\n",
       " 0.2528301886792452,\n",
       " 0.2528301886792452,\n",
       " 0.2528301886792452,\n",
       " 0.2520754716981133,\n",
       " 0.21886792452830184,\n",
       " 0.2528301886792452,\n",
       " 0.2883018867924527,\n",
       " 0.30037735849056624,\n",
       " 0.26792452830188673,\n",
       " 0.23773584905660372,\n",
       " 0.23773584905660372,\n",
       " 0.22264150943396221,\n",
       " 0.21358490566037758,\n",
       " 0.19849056603773607,\n",
       " 0.21509433962264146,\n",
       " 0.20150943396226406,\n",
       " 0.18037735849056613,\n",
       " 0.18188679245283024,\n",
       " 0.19849056603773607,\n",
       " 0.21509433962264146,\n",
       " 0.199245283018868,\n",
       " 0.20528301886792444,\n",
       " 0.26566037735849046,\n",
       " 0.2716981132075471,\n",
       " 0.24981132075471701,\n",
       " 0.21886792452830184,\n",
       " 0.20603773584905682,\n",
       " 0.1924528301886792,\n",
       " 0.1924528301886792,\n",
       " 0.189433962264151,\n",
       " 0.18716981132075494,\n",
       " 0.18490566037735845,\n",
       " 0.1841509433962265,\n",
       " 0.18113207547169807,\n",
       " 0.17132075471698105,\n",
       " 0.1584905660377358,\n",
       " 0.1622641509433962,\n",
       " 0.1622641509433962,\n",
       " 0.17509433962264143,\n",
       " 0.1622641509433962,\n",
       " 0.15999999999999992,\n",
       " 0.15924528301886798,\n",
       " 0.15094339622641506,\n",
       " 0.1539622641509435,\n",
       " 0.14490566037735841,\n",
       " 0.14264150943396237,\n",
       " 0.13811320754716983,\n",
       " 0.13735849056603766,\n",
       " 0.13207547169811318,\n",
       " 0.11622641509433973,\n",
       " 0.10867924528301898,\n",
       " 0.11698113207547167,\n",
       " 0.11698113207547167,\n",
       " 0.1064150943396227,\n",
       " 0.09056603773584904,\n",
       " 0.13962264150943393,\n",
       " 0.11698113207547167,\n",
       " 0.11849056603773578,\n",
       " 0.11547169811320757,\n",
       " 0.12377358490566048,\n",
       " 0.1841509433962265,\n",
       " 0.1773584905660377,\n",
       " 0.15094339622641506,\n",
       " 0.1350943396226416,\n",
       " 0.138867924528302,\n",
       " 0.12452830188679243,\n",
       " 0.12452830188679243,\n",
       " 0.10943396226415092,\n",
       " 0.09433962264150941,\n",
       " 0.0913207547169812,\n",
       " 0.08679245283018866,\n",
       " 0.08301886792452828,\n",
       " 0.06943396226415088,\n",
       " 0.06566037735849051,\n",
       " 0.07094339622641521,\n",
       " 0.0641509433962264,\n",
       " 0.060377358490566024,\n",
       " 0.060377358490566024,\n",
       " 0.05509433962264154,\n",
       " 0.058113207547169754,\n",
       " 0.05660377358490565,\n",
       " 0.05207547169811333,\n",
       " 0.049056603773584895,\n",
       " 0.030188679245283012,\n",
       " 0.03396226415094339,\n",
       " 0.0271698113207548,\n",
       " 0.03396226415094339,\n",
       " 0.026415094339622636,\n",
       " 0.03245283018867928,\n",
       " 0.026415094339622636,\n",
       " 0.040000000000000036,\n",
       " 0.03245283018867928,\n",
       " 0.018867924528301883,\n",
       " 0.018867924528301883,\n",
       " 0.017358490566037776,\n",
       " 0.0,\n",
       " 0.01132075471698113,\n",
       " 0.015094339622641506,\n",
       " 0.06188679245283013,\n",
       " 0.07094339622641521,\n",
       " 0.05660377358490565,\n",
       " 0.0641509433962264,\n",
       " 0.08754716981132082,\n",
       " 0.13207547169811318,\n",
       " 0.13207547169811318,\n",
       " 0.16981132075471694,\n",
       " 0.15320754716981155,\n",
       " 0.16150943396226425,\n",
       " 0.12452830188679243,\n",
       " 0.10188679245283017,\n",
       " 0.10113207547169822,\n",
       " 0.09433962264150941,\n",
       " 0.0913207547169812,\n",
       " 0.09207547169811314,\n",
       " 0.07169811320754715,\n",
       " 0.0641509433962264,\n",
       " 0.060377358490566024,\n",
       " 0.07320754716981126,\n",
       " 0.08754716981132082,\n",
       " 0.08679245283018866,\n",
       " 0.06792452830188678,\n",
       " 0.0626415094339623,\n",
       " 0.05660377358490565,\n",
       " 0.049056603773584895,\n",
       " 0.049056603773584895,\n",
       " 0.03924528301886787,\n",
       " 0.03396226415094339,\n",
       " 0.025660377358490694,\n",
       " 0.027924528301886742,\n",
       " 0.02264150943396226,\n",
       " 0.06113207547169819,\n",
       " 0.08679245283018866,\n",
       " 0.08226415094339634,\n",
       " 0.08528301886792455,\n",
       " 0.10037735849056606,\n",
       " 0.08301886792452828,\n",
       " 0.0792452830188679,\n",
       " 0.12452830188679243,\n",
       " 0.17358490566037732,\n",
       " 0.23018867924528297,\n",
       " 0.20075471698113212,\n",
       " 0.22264150943396221,\n",
       " 0.24528301886792447,\n",
       " 0.3818867924528302,\n",
       " 0.5245283018867926,\n",
       " 0.53811320754717,\n",
       " 0.5796226415094341,\n",
       " 0.5222641509433963,\n",
       " 0.5320754716981133,\n",
       " 0.6973584905660377,\n",
       " 0.8113207547169812,\n",
       " 0.7962264150943397,\n",
       " 0.8113207547169812,\n",
       " 0.7584905660377359,\n",
       " 0.6830188679245284,\n",
       " 0.5207547169811322,\n",
       " 0.588679245283019,\n",
       " 0.5811320754716982,\n",
       " 0.6528301886792454,\n",
       " 0.7056603773584906,\n",
       " 0.727547169811321,\n",
       " 0.7584905660377359,\n",
       " 0.939622641509434,\n",
       " 1.0,\n",
       " 1.0,\n",
       " 0.9773584905660377,\n",
       " 0.8875471698113211,\n",
       " 0.7811320754716982,\n",
       " 0.7886792452830189,\n",
       " 0.7411320754716981,\n",
       " 0.6679245283018869,\n",
       " 0.7924528301886793,\n",
       " 0.7962264150943397,\n",
       " 0.72,\n",
       " 0.7041509433962265,\n",
       " 0.6603773584905661,\n",
       " 0.588679245283019,\n",
       " 0.5901886792452831,\n",
       " 0.5773584905660378,\n",
       " 0.6415094339622642,\n",
       " 0.6226415094339623,\n",
       " 0.5849056603773586,\n",
       " 0.6113207547169812,\n",
       " 0.6075471698113208,\n",
       " 0.5698113207547171,\n",
       " 0.509433962264151,\n",
       " 0.5773584905660378,\n",
       " 0.5622641509433963,\n",
       " 0.568301886792453,\n",
       " 0.5849056603773586,\n",
       " 0.6483018867924528,\n",
       " 0.6377358490566039,\n",
       " 0.6867924528301887,\n",
       " 0.7283018867924529,\n",
       " 0.6950943396226414,\n",
       " 0.6981132075471699,\n",
       " 0.7411320754716981,\n",
       " 0.7962264150943397,\n",
       " 0.8120754716981133,\n",
       " 0.7932075471698112,\n",
       " 0.7562264150943396,\n",
       " 0.7735849056603774,\n",
       " 0.7049056603773585,\n",
       " 0.6603773584905661,\n",
       " 0.6332075471698113,\n",
       " 0.6603773584905661,\n",
       " 0.689811320754717,\n",
       " 0.6603773584905661,\n",
       " 0.639245283018868,\n",
       " 0.6407547169811321,\n",
       " 0.6754716981132076,\n",
       " 0.7056603773584906,\n",
       " 0.679245283018868,\n",
       " 0.6535849056603773,\n",
       " 0.658867924528302,\n",
       " 0.661132075471698,\n",
       " 0.6377358490566039,\n",
       " 0.6339622641509435,\n",
       " 0.6135849056603775,\n",
       " 0.5924528301886793,\n",
       " 0.5992452830188679,\n",
       " 0.6400000000000001,\n",
       " 0.6369811320754717,\n",
       " 0.6226415094339623,\n",
       " 0.5924528301886793,\n",
       " 0.5811320754716982,\n",
       " 0.5781132075471698,\n",
       " 0.5773584905660378,\n",
       " 0.5607547169811322,\n",
       " 0.5252830188679245,\n",
       " 0.5169811320754718,\n",
       " 0.5237735849056604,\n",
       " 0.5924528301886793,\n",
       " 0.5479245283018868,\n",
       " 0.5275471698113208,\n",
       " 0.5320754716981133,\n",
       " 0.5283018867924529,\n",
       " 0.5132075471698114,\n",
       " 0.4867924528301888,\n",
       " 0.4996226415094338,\n",
       " 0.5313207547169811,\n",
       " 0.5826415094339623,\n",
       " 0.5471698113207548,\n",
       " 0.5320754716981133,\n",
       " 0.5177358490566037,\n",
       " 0.5169811320754718,\n",
       " 0.509433962264151,\n",
       " 0.5245283018867926,\n",
       " 0.5215094339622641,\n",
       " 0.5116981132075473,\n",
       " 0.509433962264151,\n",
       " 0.4883018867924527,\n",
       " 0.4709433962264151,\n",
       " 0.4679245283018869,\n",
       " 0.4339622641509435,\n",
       " 0.4324528301886794,\n",
       " 0.4415094339622643,\n",
       " 0.4528301886792454,\n",
       " 0.4762264150943396,\n",
       " 0.4716981132075473,\n",
       " 0.44905660377358503,\n",
       " 0.44905660377358503,\n",
       " 0.4528301886792454,\n",
       " 0.49056603773584917,\n",
       " 0.5056603773584907,\n",
       " 0.4867924528301888,\n",
       " 0.4867924528301888,\n",
       " 0.47773584905660393,\n",
       " 0.4716981132075473,\n",
       " 0.4656603773584904,\n",
       " 0.46415094339622653,\n",
       " 0.4656603773584904,\n",
       " 0.4656603773584904,\n",
       " 0.47924528301886804,\n",
       " 0.5245283018867926,\n",
       " 0.5396226415094341,\n",
       " 0.5275471698113208,\n",
       " 0.558490566037736,\n",
       " 0.5547169811320756,\n",
       " 0.5554716981132075,\n",
       " 0.6075471698113208,\n",
       " 0.6415094339622642,\n",
       " 0.609056603773585,\n",
       " 0.5864150943396227,\n",
       " 0.5486792452830189,\n",
       " 0.5547169811320756,\n",
       " 0.5245283018867926,\n",
       " 0.5245283018867926,\n",
       " 0.509433962264151,\n",
       " 0.5396226415094341,\n",
       " 0.5222641509433963,\n",
       " 0.510188679245283,\n",
       " 0.5064150943396226,\n",
       " 0.49886792452830186,\n",
       " 0.4763018867924529,\n",
       " 0.44837735849056615,\n",
       " 0.4649056603773585,\n",
       " 0.441433962264151,\n",
       " 0.4604528301886792,\n",
       " 0.47615094339622654,\n",
       " 0.49116981132075477,\n",
       " 0.4707169811320755,\n",
       " 0.48218867924528297,\n",
       " 0.5064905660377359,\n",
       " 0.48807547169811305,\n",
       " 0.4918490566037734,\n",
       " 0.4901132075471699,\n",
       " 0.4945660377358492]"
      ]
     },
     "execution_count": 31,
     "metadata": {},
     "output_type": "execute_result"
    }
   ],
   "source": [
    "temp_input"
   ]
  },
  {
   "cell_type": "code",
   "execution_count": 32,
   "metadata": {},
   "outputs": [],
   "source": [
    "# 📌 Cell 1: Generate 7-day Close predictions\n",
    "from numpy import array\n",
    "\n",
    "lst_output = []\n",
    "n_steps = 100\n",
    "i = 0\n",
    "\n",
    "while i < 7:\n",
    "    if len(temp_input) > 100:\n",
    "        x_input = np.array(temp_input[-n_steps:])\n",
    "        x_input = x_input.reshape((1, n_steps, 1))\n",
    "        yhat = model.predict(x_input, verbose=0)\n",
    "        temp_input.extend(yhat[0].tolist())\n",
    "        temp_input = temp_input[1:]\n",
    "        lst_output.extend(yhat.tolist())\n",
    "        i += 1\n",
    "    else:\n",
    "        x_input = np.array(temp_input).reshape((1, n_steps, 1))\n",
    "        yhat = model.predict(x_input, verbose=0)\n",
    "        temp_input.extend(yhat[0].tolist())\n",
    "        lst_output.extend(yhat.tolist())\n",
    "        i += 1\n",
    "\n",
    "# Inverse scale the predictions\n",
    "forecast_prices = scaler.inverse_transform(np.array(lst_output).reshape(-1, 1)).flatten()\n"
   ]
  },
  {
   "cell_type": "code",
   "execution_count": 33,
   "metadata": {},
   "outputs": [],
   "source": [
    "# 📌 Cell 2: Generate synthetic OHLC for predicted 7 days\n",
    "from datetime import timedelta\n",
    "import numpy as np\n",
    "\n",
    "last_date = pd.to_datetime(df['Date'].iloc[-1])\n",
    "last_close = df['Close'].iloc[-1]\n",
    "\n",
    "predicted_7_days = []\n",
    "\n",
    "for close_price in forecast_prices:\n",
    "    date = last_date + timedelta(days=1)\n",
    "    while date.weekday() >= 5:  # skip weekends\n",
    "        date += timedelta(days=1)\n",
    "\n",
    "    open_price = last_close * (1 + np.random.uniform(-0.01, 0.01))\n",
    "    high_price = max(open_price, close_price) * (1 + np.random.uniform(0.001, 0.015))\n",
    "    low_price = min(open_price, close_price) * (1 - np.random.uniform(0.001, 0.015))\n",
    "\n",
    "    predicted_7_days.append({\n",
    "        \"date\": date.strftime('%Y-%m-%d'),\n",
    "        \"open\": round(open_price, 2),\n",
    "        \"high\": round(high_price, 2),\n",
    "        \"low\": round(low_price, 2),\n",
    "        \"close\": round(close_price, 2)\n",
    "    })\n",
    "\n",
    "    last_close = close_price\n",
    "    last_date = date\n"
   ]
  },
  {
   "cell_type": "code",
   "execution_count": 34,
   "metadata": {},
   "outputs": [],
   "source": [
    "# 📌 Cell 3: Save full JSON (past + prediction)\n",
    "import os\n",
    "import json\n",
    "\n",
    "output_dir = os.path.join(\"predictions\", symbols)\n",
    "os.makedirs(output_dir, exist_ok=True)\n",
    "\n",
    "# Convert 'Date' to datetime\n",
    "df[\"Date\"] = pd.to_datetime(df[\"Date\"])\n",
    "\n",
    "# Pull past 30 OHLC days\n",
    "past_30_df = df[[\"Date\", \"Open\", \"High\", \"Low\", \"Close\"]].tail(30)\n",
    "past_30_list = [\n",
    "    {\n",
    "        \"date\": row[\"Date\"].strftime(\"%Y-%m-%d\"),\n",
    "        \"open\": round(row[\"Open\"], 2),\n",
    "        \"high\": round(row[\"High\"], 2),\n",
    "        \"low\": round(row[\"Low\"], 2),\n",
    "        \"close\": round(row[\"Close\"], 2)\n",
    "    }\n",
    "    for _, row in past_30_df.iterrows()\n",
    "]\n",
    "\n",
    "output_data = {\n",
    "    \"past_30_days\": past_30_list,\n",
    "    \"predicted_7_days\": predicted_7_days,\n",
    "    \"train_rmse\": train_rmse if 'train_rmse' in locals() else None,\n",
    "    \"test_rmse\": test_rmse if 'test_rmse' in locals() else None,\n",
    "    \"train_accuracy\": train_accuracy if 'train_accuracy' in locals() else None,\n",
    "    \"test_accuracy\": test_accuracy if 'test_accuracy' in locals() else None\n",
    "}\n",
    "\n",
    "with open(os.path.join(output_dir, f\"{symbols}.json\"), \"w\") as f:\n",
    "    json.dump(output_data, f, indent=4)\n"
   ]
  },
  {
   "cell_type": "code",
   "execution_count": 35,
   "metadata": {},
   "outputs": [],
   "source": [
    "day_new=np.arange(1,101)\n",
    "day_pred = np.arange(101, 108)  # For 7 days"
   ]
  },
  {
   "cell_type": "code",
   "execution_count": 36,
   "metadata": {},
   "outputs": [],
   "source": [
    "import matplotlib.pyplot as plt"
   ]
  },
  {
   "cell_type": "code",
   "execution_count": 37,
   "metadata": {},
   "outputs": [
    {
     "data": {
      "text/plain": [
       "2541"
      ]
     },
     "execution_count": 37,
     "metadata": {},
     "output_type": "execute_result"
    }
   ],
   "source": [
    "len(df1)"
   ]
  },
  {
   "cell_type": "code",
   "execution_count": 38,
   "metadata": {},
   "outputs": [],
   "source": [
    "import os\n",
    "\n",
    "output_dir = f\"predictions/{symbols}\"\n",
    "os.makedirs(output_dir, exist_ok=True)\n"
   ]
  },
  {
   "cell_type": "code",
   "execution_count": 39,
   "metadata": {},
   "outputs": [],
   "source": [
    "import matplotlib.pyplot as plt\n",
    "\n",
    "plt.figure(figsize=(10, 5))  # Optional: Set figure size for better clarity\n",
    "\n",
    "# Plot past 100 days\n",
    "plt.plot(day_new, scaler.inverse_transform(np.array(df1[-100:]).reshape(-1, 1)), label=\"Past 100 Days\")\n",
    "\n",
    "# Plot next 7 predicted days\n",
    "plt.plot(day_pred, scaler.inverse_transform(np.array(lst_output).reshape(-1, 1)), label=\"Next 7 Days\")\n",
    "\n",
    "plt.title(f\"{symbols} — Forecast vs History\")\n",
    "plt.xlabel(\"Days\")\n",
    "plt.ylabel(\"Closing Price\")\n",
    "plt.legend()\n",
    "plt.grid(True)\n",
    "\n",
    "# Ensure output folder exists\n",
    "os.makedirs(output_dir, exist_ok=True)\n",
    "\n",
    "# Save plot before plt.show()\n",
    "chart_path = os.path.join(output_dir, f\"{symbols}_chart1.png\")\n",
    "plt.savefig(chart_path, bbox_inches=\"tight\")  # Use bbox_inches to capture full content\n",
    "plt.close()  # Close to free memory and prevent display issues in batch runs\n"
   ]
  },
  {
   "cell_type": "code",
   "execution_count": 40,
   "metadata": {},
   "outputs": [
    {
     "data": {
      "text/plain": [
       "[<matplotlib.lines.Line2D at 0x20f2ae90250>]"
      ]
     },
     "execution_count": 40,
     "metadata": {},
     "output_type": "execute_result"
    },
    {
     "data": {
      "image/png": "[encoded data removed]",
      "text/plain": [
       "<Figure size 640x480 with 1 Axes>"
      ]
     },
     "metadata": {},
     "output_type": "display_data"
    }
   ],
   "source": [
    "df3=df1.tolist()\n",
    "df3.extend(lst_output)\n",
    "plt.plot(df3[1200:])"
   ]
  },
  {
   "cell_type": "code",
   "execution_count": 41,
   "metadata": {},
   "outputs": [],
   "source": [
    "df3=scaler.inverse_transform(df3).tolist()"
   ]
  },
  {
   "cell_type": "code",
   "execution_count": 42,
   "metadata": {},
   "outputs": [
    {
     "data": {
      "text/plain": [
       "[<matplotlib.lines.Line2D at 0x20f2b3bb7d0>]"
      ]
     },
     "execution_count": 42,
     "metadata": {},
     "output_type": "execute_result"
    },
    {
     "data": {
      "image/png": "[encoded data removed]",
      "text/plain": [
       "<Figure size 640x480 with 1 Axes>"
      ]
     },
     "metadata": {},
     "output_type": "display_data"
    }
   ],
   "source": [
    "plt.plot(df3)\n"
   ]
  },
  {
   "cell_type": "code",
   "execution_count": 43,
   "metadata": {},
   "outputs": [],
   "source": [
    "last_date = pd.to_datetime(df[\"Date\"].iloc[-1])\n",
    "forecast_dates = [(last_date + pd.Timedelta(days=i)).strftime(\"%Y-%m-%d\") for i in range(1, 8)]\n"
   ]
  },
  {
   "cell_type": "code",
   "execution_count": 44,
   "metadata": {},
   "outputs": [],
   "source": [
    "\n",
    "import os\n",
    "output_dir = 'stock_prediction'\n",
    "os.makedirs(output_dir, exist_ok=True)\n"
   ]
  },
  {
   "cell_type": "code",
   "execution_count": null,
   "metadata": {},
   "outputs": [],
   "source": []
  },
  {
   "cell_type": "code",
   "execution_count": null,
   "metadata": {},
   "outputs": [],
   "source": []
  },
  {
   "cell_type": "code",
   "execution_count": null,
   "metadata": {},
   "outputs": [],
   "source": []
  }
 ],
 "metadata": {
  "kernelspec": {
   "display_name": "Python 3",
   "language": "python",
   "name": "python3"
  },
  "language_info": {
   "codemirror_mode": {
    "name": "ipython",
    "version": 3
   },
   "file_extension": ".py",
   "mimetype": "text/x-python",
   "name": "python",
   "nbconvert_exporter": "python",
   "pygments_lexer": "ipython3",
   "version": "3.11.0rc2"
  }
 },
 "nbformat": 4,
 "nbformat_minor": 4
}
